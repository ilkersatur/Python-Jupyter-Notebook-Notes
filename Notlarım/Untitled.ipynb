{
 "cells": [
  {
   "cell_type": "code",
   "execution_count": null,
   "metadata": {},
   "outputs": [],
   "source": [
    "sayi=int(input(\"sayi\"))\n",
    "toplam=0\n",
    "for i in range(0,sayi):\n",
    "    toplam+=i\n",
    "print(toplam)"
   ]
  },
  {
   "cell_type": "code",
   "execution_count": 34,
   "metadata": {},
   "outputs": [
    {
     "name": "stdin",
     "output_type": "stream",
     "text": [
      "sayi 5\n"
     ]
    },
    {
     "name": "stdout",
     "output_type": "stream",
     "text": [
      "120\n"
     ]
    }
   ],
   "source": [
    "sayi=int(input(\"sayi\"))\n",
    "carp=1\n",
    "for i in range(1,sayi+1):\n",
    "    carp*=i\n",
    "print(carp)"
   ]
  },
  {
   "cell_type": "markdown",
   "metadata": {},
   "source": [
    "### 7- Kullanıcıdan bir programa giriş için kullanıcı adı ve şifreyi isteyiniz. Girilen bilgilerin doğruluğu ve yanlışlığına göre kullanıcıyı yönlendiriniz. Kullanıcı bilgilerini 3 defa yanlış girerse programdan atınız. Bu işlemi yapan programı kodlayalım.\n",
    "\n"
   ]
  },
  {
   "cell_type": "code",
   "execution_count": null,
   "metadata": {},
   "outputs": [],
   "source": []
  },
  {
   "cell_type": "code",
   "execution_count": null,
   "metadata": {},
   "outputs": [],
   "source": []
  },
  {
   "cell_type": "code",
   "execution_count": null,
   "metadata": {},
   "outputs": [],
   "source": []
  },
  {
   "cell_type": "code",
   "execution_count": null,
   "metadata": {},
   "outputs": [
    {
     "name": "stdin",
     "output_type": "stream",
     "text": [
      "kullanıcı adı asd\n",
      "şifre asd\n",
      "kullanıcı adı \n"
     ]
    },
    {
     "name": "stdout",
     "output_type": "stream",
     "text": [
      "giriş başarısız\n",
      "stop\n"
     ]
    }
   ],
   "source": [
    "a=1\n",
    "while a < 4:\n",
    "    a+=1\n",
    "    ad=input(\"kullanıcı adı\")\n",
    "    sifre=input(\"şifre\")\n",
    "\n",
    "    if(ad!=\"ilker\" and sifre!=\"satur\"):\n",
    "        print(\"giriş başarısız\")\n",
    "        print(\"stop\")\n",
    "        \n",
    "    else:\n",
    "        print(\"giriş başarılı\")\n",
    "        break\n"
   ]
  },
  {
   "cell_type": "code",
   "execution_count": null,
   "metadata": {},
   "outputs": [],
   "source": []
  }
 ],
 "metadata": {
  "kernelspec": {
   "display_name": "Python 3",
   "language": "python",
   "name": "python3"
  },
  "language_info": {
   "codemirror_mode": {
    "name": "ipython",
    "version": 3
   },
   "file_extension": ".py",
   "mimetype": "text/x-python",
   "name": "python",
   "nbconvert_exporter": "python",
   "pygments_lexer": "ipython3",
   "version": "3.8.5"
  }
 },
 "nbformat": 4,
 "nbformat_minor": 5
}
