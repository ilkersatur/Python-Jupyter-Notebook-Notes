{
 "cells": [
  {
   "cell_type": "code",
   "execution_count": 1,
   "metadata": {},
   "outputs": [
    {
     "data": {
      "text/plain": [
       "True"
      ]
     },
     "execution_count": 1,
     "metadata": {},
     "output_type": "execute_result"
    }
   ],
   "source": [
    "\"i\" in \"ilker\""
   ]
  },
  {
   "cell_type": "code",
   "execution_count": 2,
   "metadata": {},
   "outputs": [
    {
     "data": {
      "text/plain": [
       "False"
      ]
     },
     "execution_count": 2,
     "metadata": {},
     "output_type": "execute_result"
    }
   ],
   "source": [
    "\"i\" in \"İlker\""
   ]
  },
  {
   "cell_type": "code",
   "execution_count": 3,
   "metadata": {},
   "outputs": [
    {
     "name": "stdin",
     "output_type": "stream",
     "text": [
      "kelime ilker\n",
      "harf i\n"
     ]
    },
    {
     "name": "stdout",
     "output_type": "stream",
     "text": [
      "sonuç: True\n",
      "Yazılan harf kelime içinde var.\n"
     ]
    }
   ],
   "source": [
    "kelime=input(\"kelime\")\n",
    "harf=input(\"harf\")\n",
    "sonuç=bool(\"{}\".format(harf) in \"{}\".format(kelime))\n",
    "print(\"sonuç:\",sonuç)\n",
    "\n",
    "if(sonuç==True):\n",
    "    print(\"Yazılan harf kelime içinde var.\")\n",
    "\n",
    "else:\n",
    "    print(\"Yazılan harf kelime içinde yok.\")"
   ]
  },
  {
   "cell_type": "code",
   "execution_count": 4,
   "metadata": {},
   "outputs": [
    {
     "name": "stdout",
     "output_type": "stream",
     "text": [
      "Liste Elemanları: 1\n",
      "Liste Elemanları: 2\n",
      "Liste Elemanları: 3\n",
      "Liste Elemanları: 4\n",
      "Liste Elemanları: 5\n",
      "Liste Elemanları: 6\n",
      "Liste Elemanları: 10\n",
      "Liste Elemanları: 20\n",
      "Liste Elemanları: 3\n",
      "Liste Elemanları: 4\n",
      "Liste Elemanları: 5\n",
      "Liste Elemanları: 6\n"
     ]
    }
   ],
   "source": [
    "liste=[1,2,3,4,5,6]\n",
    "\n",
    "for eleman in liste:\n",
    "    print(\"Liste Elemanları:\",eleman)\n",
    "demet=(10,20,3,4,5,6)\n",
    "\n",
    "for eleman in demet:\n",
    "    print(\"Liste Elemanları:\",eleman)"
   ]
  },
  {
   "cell_type": "code",
   "execution_count": 5,
   "metadata": {},
   "outputs": [
    {
     "name": "stdout",
     "output_type": "stream",
     "text": [
      "Listedeki elemanların Toplamı: 145\n"
     ]
    }
   ],
   "source": [
    "# sum(liste2)'nin arkaplanındaki çalışan kod satırı aşağıdaki gibidir.\n",
    "liste2=[20,10,15,-50,-100,250]\n",
    "toplam=0\n",
    "for eleman in liste2:\n",
    "    toplam+=eleman  # toplam=toplam+eleman\n",
    "    \n",
    "print(\"Listedeki elemanların Toplamı:\",toplam)\n",
    "#sum bu işi yapar"
   ]
  },
  {
   "cell_type": "code",
   "execution_count": 6,
   "metadata": {},
   "outputs": [
    {
     "name": "stdout",
     "output_type": "stream",
     "text": [
      "Tek Sayi: 1\n",
      "Cift sayi: 2\n",
      "Tek Sayi: 3\n",
      "Cift sayi: 4\n",
      "Tek Sayi: 5\n",
      "Cift sayi: 6\n",
      "Tek Sayi: 7\n",
      "Cift sayi: 8\n",
      "Tek Sayi: 9\n",
      "Cift sayi: 10\n"
     ]
    }
   ],
   "source": [
    "liste3=[1,2,3,4,5,6,7,8,9,10]\n",
    "\n",
    "for i in liste3:\n",
    "    \n",
    "    if(i%2==0):\n",
    "        print(\"Cift sayi:\",i)\n",
    "    \n",
    "    else:\n",
    "        print(\"Tek Sayi:\",i)"
   ]
  },
  {
   "cell_type": "code",
   "execution_count": 10,
   "metadata": {},
   "outputs": [
    {
     "name": "stdout",
     "output_type": "stream",
     "text": [
      "1\n",
      "2\n",
      "4\n",
      "5\n",
      "5\n",
      "6\n"
     ]
    }
   ],
   "source": [
    "liste=[[1,2],[4,5],[5,6]]\n",
    "\n",
    "for i in liste:\n",
    "    for j in i:\n",
    "        print(j)"
   ]
  },
  {
   "cell_type": "code",
   "execution_count": 11,
   "metadata": {},
   "outputs": [
    {
     "name": "stdout",
     "output_type": "stream",
     "text": [
      "6\n",
      "200\n",
      "450\n"
     ]
    }
   ],
   "source": [
    "liste=[[1,2,3],[4,5,10],[5,6,15]]\n",
    "\n",
    "for i,j,k in liste:\n",
    "    print(i*j*k)"
   ]
  },
  {
   "cell_type": "code",
   "execution_count": 12,
   "metadata": {},
   "outputs": [
    {
     "name": "stdout",
     "output_type": "stream",
     "text": [
      "Dongunun ici.\n",
      "0\n",
      "Dongunun ici.\n",
      "1\n",
      "Dongunun ici.\n",
      "2\n",
      "Dongunun ici.\n",
      "3\n",
      "Dongunun ici.\n",
      "4\n",
      "Dongunun ici.\n",
      "5\n",
      "Dongunun ici.\n",
      "6\n",
      "Dongunun ici.\n",
      "7\n",
      "Dongunun ici.\n",
      "8\n",
      "Dongunun ici.\n",
      "9\n",
      "Dongu Sonlandi. 10\n"
     ]
    }
   ],
   "source": [
    "sayac=0\n",
    "\n",
    "while(sayac<10):\n",
    "    \n",
    "    print(\"Dongunun ici.\");print(sayac)\n",
    "    \n",
    "    sayac+=1\n",
    "\n",
    "print(\"Dongu Sonlandi.\",sayac)"
   ]
  },
  {
   "cell_type": "code",
   "execution_count": 13,
   "metadata": {},
   "outputs": [
    {
     "name": "stdout",
     "output_type": "stream",
     "text": [
      "Dongunun ici.\n",
      "0\n",
      "Dongunun ici.\n",
      "1\n",
      "Dongunun ici.\n",
      "2\n",
      "Dongunun ici.\n",
      "3\n",
      "Dongunun ici.\n",
      "4\n",
      "Dongunun ici.\n",
      "5\n",
      "Dongu Sonlandi. 6\n"
     ]
    }
   ],
   "source": [
    "sayac=0\n",
    "\n",
    "while(sayac<10):\n",
    "    \n",
    "    print(\"Dongunun ici.\");print(sayac)\n",
    "    \n",
    "    sayac+=1\n",
    "    \n",
    "    if(sayac==6):\n",
    "        break\n",
    "\n",
    "print(\"Dongu Sonlandi.\",sayac)"
   ]
  },
  {
   "cell_type": "code",
   "execution_count": 14,
   "metadata": {},
   "outputs": [
    {
     "name": "stdout",
     "output_type": "stream",
     "text": [
      "Dongunun ici.\n",
      "0\n",
      "Dongunun ici.\n",
      "1\n",
      "Dongunun ici.\n",
      "2\n",
      "Dongunun ici.\n",
      "3\n",
      "Dongunun ici.\n",
      "4\n",
      "Dongunun ici.\n",
      "5\n",
      "Dongunun ici.\n",
      "6\n",
      "Dongunun ici.\n",
      "7\n",
      "Dongunun ici.\n",
      "8\n",
      "Dongunun ici.\n",
      "9\n",
      "Dongu Sonlandi. 10\n"
     ]
    }
   ],
   "source": [
    "sayac=0\n",
    "\n",
    "while(sayac<10):\n",
    "    \n",
    "    print(\"Dongunun ici.\");print(sayac)\n",
    "    \n",
    "    sayac+=1\n",
    "    \n",
    "    if(sayac==6):\n",
    "        continue\n",
    "\n",
    "print(\"Dongu Sonlandi.\",sayac)"
   ]
  }
 ],
 "metadata": {
  "kernelspec": {
   "display_name": "Python 3",
   "language": "python",
   "name": "python3"
  },
  "language_info": {
   "codemirror_mode": {
    "name": "ipython",
    "version": 3
   },
   "file_extension": ".py",
   "mimetype": "text/x-python",
   "name": "python",
   "nbconvert_exporter": "python",
   "pygments_lexer": "ipython3",
   "version": "3.8.5"
  }
 },
 "nbformat": 4,
 "nbformat_minor": 5
}
