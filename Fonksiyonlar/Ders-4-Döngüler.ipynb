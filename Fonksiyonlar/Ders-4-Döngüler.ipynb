{
 "cells": [
  {
   "cell_type": "markdown",
   "metadata": {},
   "source": [
    "# in Operatörü"
   ]
  },
  {
   "cell_type": "code",
   "execution_count": 1,
   "metadata": {},
   "outputs": [
    {
     "data": {
      "text/plain": [
       "True"
      ]
     },
     "execution_count": 1,
     "metadata": {},
     "output_type": "execute_result"
    }
   ],
   "source": [
    "'a' in 'ahmet'"
   ]
  },
  {
   "cell_type": "code",
   "execution_count": 2,
   "metadata": {},
   "outputs": [
    {
     "data": {
      "text/plain": [
       "False"
      ]
     },
     "execution_count": 2,
     "metadata": {},
     "output_type": "execute_result"
    }
   ],
   "source": [
    "'A' in 'ahmet'"
   ]
  },
  {
   "cell_type": "code",
   "execution_count": 3,
   "metadata": {},
   "outputs": [
    {
     "data": {
      "text/plain": [
       "True"
      ]
     },
     "execution_count": 3,
     "metadata": {},
     "output_type": "execute_result"
    }
   ],
   "source": [
    "5 in [5,10,27,21,17,25]"
   ]
  },
  {
   "cell_type": "code",
   "execution_count": 4,
   "metadata": {},
   "outputs": [
    {
     "data": {
      "text/plain": [
       "False"
      ]
     },
     "execution_count": 4,
     "metadata": {},
     "output_type": "execute_result"
    }
   ],
   "source": [
    "-5 in [5,10,27,21,17,25]"
   ]
  },
  {
   "cell_type": "code",
   "execution_count": 5,
   "metadata": {},
   "outputs": [
    {
     "name": "stdin",
     "output_type": "stream",
     "text": [
      "Bir harf giriniz: a\n",
      "Bir kelime giriniz: ali\n"
     ]
    },
    {
     "name": "stdout",
     "output_type": "stream",
     "text": [
      "a değişkenin değeri\n",
      "Yazılan harf kelime içinde yok.\n"
     ]
    }
   ],
   "source": [
    "harf=input(\"Bir harf giriniz:\")\n",
    "kelime=input('Bir kelime giriniz:')\n",
    "\n",
    "a=bool(\"{}\" in \"{}\".format(harf,kelime))\n",
    "\n",
    "print(\"a değişkenin değeri\")\n",
    "\n",
    "if(a==True):\n",
    "    print(\"Yazılan harf kelime içinde var.\")\n",
    "\n",
    "else:\n",
    "    print(\"Yazılan harf kelime içinde yok.\")"
   ]
  },
  {
   "cell_type": "code",
   "execution_count": 6,
   "metadata": {},
   "outputs": [
    {
     "name": "stdin",
     "output_type": "stream",
     "text": [
      "Bir harf giriniz: a\n",
      "Bir kelime giriniz: ali\n"
     ]
    },
    {
     "name": "stdout",
     "output_type": "stream",
     "text": [
      "donen_deger değişkenin değeri: True\n",
      "Yazılan harf kelime içinde var.\n"
     ]
    }
   ],
   "source": [
    "harf=input(\"Bir harf giriniz:\")\n",
    "kelime=input('Bir kelime giriniz:')\n",
    "\n",
    "donen_deger=bool(\"{}\".format(harf) in \"{}\".format(kelime))\n",
    "\n",
    "print(\"donen_deger değişkenin değeri:\",donen_deger)\n",
    "\n",
    "if(donen_deger==True):\n",
    "    print(\"Yazılan harf kelime içinde var.\")\n",
    "\n",
    "else:\n",
    "    print(\"Yazılan harf kelime içinde yok.\")"
   ]
  },
  {
   "cell_type": "code",
   "execution_count": 7,
   "metadata": {},
   "outputs": [
    {
     "name": "stdout",
     "output_type": "stream",
     "text": [
      "Liste Elemanları: 1\n",
      "Liste Elemanları: 2\n",
      "Liste Elemanları: 3\n",
      "Liste Elemanları: 4\n",
      "Liste Elemanları: 5\n",
      "Liste Elemanları: 6\n"
     ]
    }
   ],
   "source": [
    "liste=[1,2,3,4,5,6]\n",
    "\n",
    "for eleman in liste:\n",
    "    print(\"Liste Elemanları:\",eleman)"
   ]
  },
  {
   "cell_type": "code",
   "execution_count": 8,
   "metadata": {},
   "outputs": [
    {
     "name": "stdout",
     "output_type": "stream",
     "text": [
      "Liste Elemanları: 10\n",
      "Liste Elemanları: 20\n",
      "Liste Elemanları: 3\n",
      "Liste Elemanları: 4\n",
      "Liste Elemanları: 5\n",
      "Liste Elemanları: 6\n"
     ]
    }
   ],
   "source": [
    "demet=(10,20,3,4,5,6)\n",
    "\n",
    "for eleman in demet:\n",
    "    print(\"Liste Elemanları:\",eleman)"
   ]
  },
  {
   "cell_type": "code",
   "execution_count": 9,
   "metadata": {},
   "outputs": [
    {
     "data": {
      "text/plain": [
       "[-100, -50, 10, 15, 20, 250]"
      ]
     },
     "execution_count": 9,
     "metadata": {},
     "output_type": "execute_result"
    }
   ],
   "source": [
    "liste2=[20,10,15,-50,-100,250]\n",
    "liste2.sort()\n",
    "liste2"
   ]
  },
  {
   "cell_type": "code",
   "execution_count": 10,
   "metadata": {},
   "outputs": [
    {
     "data": {
      "text/plain": [
       "145"
      ]
     },
     "execution_count": 10,
     "metadata": {},
     "output_type": "execute_result"
    }
   ],
   "source": [
    "sum(liste2)"
   ]
  },
  {
   "cell_type": "markdown",
   "metadata": {},
   "source": [
    "### toplam += eleman ya da toplam toplam + eleman\n",
    "### toplam -= eleman ya da toplam=toplam - eleman\n",
    "### toplam * = eleman ya da toplam=toplam * eleman\n",
    "### toplam /= eleman ya da toplam=toplam / eleman"
   ]
  },
  {
   "cell_type": "code",
   "execution_count": 13,
   "metadata": {},
   "outputs": [
    {
     "ename": "NameError",
     "evalue": "name 'toplam' is not defined",
     "output_type": "error",
     "traceback": [
      "\u001b[1;31m---------------------------------------------------------------------------\u001b[0m",
      "\u001b[1;31mNameError\u001b[0m                                 Traceback (most recent call last)",
      "\u001b[1;32m<ipython-input-13-0c3be949a830>\u001b[0m in \u001b[0;36m<module>\u001b[1;34m\u001b[0m\n\u001b[0;32m      2\u001b[0m \u001b[1;33m\u001b[0m\u001b[0m\n\u001b[0;32m      3\u001b[0m \u001b[1;32mfor\u001b[0m \u001b[0meleman\u001b[0m \u001b[1;32min\u001b[0m \u001b[0mliste2\u001b[0m\u001b[1;33m:\u001b[0m\u001b[1;33m\u001b[0m\u001b[1;33m\u001b[0m\u001b[0m\n\u001b[1;32m----> 4\u001b[1;33m     \u001b[0mtoplam\u001b[0m\u001b[1;33m+=\u001b[0m\u001b[0meleman\u001b[0m  \u001b[1;31m# toplam=toplam+eleman\u001b[0m\u001b[1;33m\u001b[0m\u001b[1;33m\u001b[0m\u001b[0m\n\u001b[0m\u001b[0;32m      5\u001b[0m \u001b[1;33m\u001b[0m\u001b[0m\n\u001b[0;32m      6\u001b[0m \u001b[0mprint\u001b[0m\u001b[1;33m(\u001b[0m\u001b[1;34m\"Listedeki elemanların Toplamı:\"\u001b[0m\u001b[1;33m,\u001b[0m\u001b[0mtoplam\u001b[0m\u001b[1;33m)\u001b[0m\u001b[1;33m\u001b[0m\u001b[1;33m\u001b[0m\u001b[0m\n",
      "\u001b[1;31mNameError\u001b[0m: name 'toplam' is not defined"
     ]
    }
   ],
   "source": [
    "liste2=[20,10,15,-50,-100,250]\n",
    "\n",
    "for eleman in liste2:\n",
    "    toplam+=eleman  # toplam=toplam+eleman\n",
    "    \n",
    "print(\"Listedeki elemanların Toplamı:\",toplam)"
   ]
  },
  {
   "cell_type": "code",
   "execution_count": 16,
   "metadata": {},
   "outputs": [
    {
     "name": "stdout",
     "output_type": "stream",
     "text": [
      "Listedeki elemanların Toplamı: 145\n"
     ]
    }
   ],
   "source": [
    "# sum(liste2)'nin arkaplanındaki çalışan kod satırı aşağıdaki gibidir.\n",
    "liste2=[20,10,15,-50,-100,250]\n",
    "toplam=0\n",
    "for eleman in liste2:\n",
    "    toplam+=eleman  # toplam=toplam+eleman\n",
    "    \n",
    "print(\"Listedeki elemanların Toplamı:\",toplam)"
   ]
  },
  {
   "cell_type": "code",
   "execution_count": 17,
   "metadata": {},
   "outputs": [
    {
     "name": "stdout",
     "output_type": "stream",
     "text": [
      "Listedeki elemanların Toplamı: 290\n"
     ]
    }
   ],
   "source": [
    "# Tanımladığımız programda tekrar toplam değişkenini tanımlamasak bile üstteki satırda toplam \n",
    "# tanımlandığı için toplam için RAM'de adres tahsis edilir ve bu toplam değişkenini \n",
    "# başka kod satırında yazmasakta hata vermeden işlemlerimizi devam ettirebiliriz.\n",
    "\n",
    "liste2=[20,10,15,-50,-100,250]\n",
    "\n",
    "for eleman in liste2:\n",
    "    toplam+=eleman  # toplam=toplam+eleman\n",
    "    \n",
    "print(\"Listedeki elemanların Toplamı:\",toplam)"
   ]
  },
  {
   "cell_type": "code",
   "execution_count": 18,
   "metadata": {},
   "outputs": [
    {
     "name": "stdout",
     "output_type": "stream",
     "text": [
      "Tek Sayi: 1\n",
      "Cift sayi: 2\n",
      "Tek Sayi: 3\n",
      "Cift sayi: 4\n",
      "Tek Sayi: 5\n",
      "Cift sayi: 6\n",
      "Tek Sayi: 7\n",
      "Cift sayi: 8\n",
      "Tek Sayi: 9\n",
      "Cift sayi: 10\n"
     ]
    }
   ],
   "source": [
    "liste3=[1,2,3,4,5,6,7,8,9,10]\n",
    "\n",
    "for i in liste3:\n",
    "    \n",
    "    if(i%2==0):\n",
    "        print(\"Cift sayi:\",i)\n",
    "    \n",
    "    else:\n",
    "        print(\"Tek Sayi:\",i)"
   ]
  },
  {
   "cell_type": "code",
   "execution_count": 27,
   "metadata": {},
   "outputs": [
    {
     "ename": "IndentationError",
     "evalue": "expected an indented block (<ipython-input-27-9d1f3764a47f>, line 6)",
     "output_type": "error",
     "traceback": [
      "\u001b[1;36m  File \u001b[1;32m\"<ipython-input-27-9d1f3764a47f>\"\u001b[1;36m, line \u001b[1;32m6\u001b[0m\n\u001b[1;33m    if(i%2==0):\u001b[0m\n\u001b[1;37m    ^\u001b[0m\n\u001b[1;31mIndentationError\u001b[0m\u001b[1;31m:\u001b[0m expected an indented block\n"
     ]
    }
   ],
   "source": [
    "liste3=[1,2,3,4,5,6,7,8,9,10]\n",
    "\n",
    "for i in liste3:\n",
    "    \n",
    "if(i%2==0):\n",
    "    print(\"Cift sayi:\",i)\n",
    "    \n",
    "else:\n",
    "    print(\"Tek Sayi:\",i)"
   ]
  },
  {
   "cell_type": "code",
   "execution_count": 21,
   "metadata": {},
   "outputs": [
    {
     "ename": "SyntaxError",
     "evalue": "unexpected EOF while parsing (<ipython-input-21-00d0a696eafd>, line 3)",
     "output_type": "error",
     "traceback": [
      "\u001b[1;36m  File \u001b[1;32m\"<ipython-input-21-00d0a696eafd>\"\u001b[1;36m, line \u001b[1;32m3\u001b[0m\n\u001b[1;33m    for i in liste3:\u001b[0m\n\u001b[1;37m                    ^\u001b[0m\n\u001b[1;31mSyntaxError\u001b[0m\u001b[1;31m:\u001b[0m unexpected EOF while parsing\n"
     ]
    }
   ],
   "source": [
    "liste3=[1,2,3,4,5,6,7,8,9,10]\n",
    "\n",
    "for i in liste3:"
   ]
  },
  {
   "cell_type": "code",
   "execution_count": 22,
   "metadata": {},
   "outputs": [],
   "source": [
    "liste3=[1,2,3,4,5,6,7,8,9,10]\n",
    "\n",
    "for i in liste3:\n",
    "    pass"
   ]
  },
  {
   "cell_type": "code",
   "execution_count": 24,
   "metadata": {},
   "outputs": [
    {
     "ename": "SyntaxError",
     "evalue": "unexpected EOF while parsing (<ipython-input-24-8b77c7c0fc22>, line 9)",
     "output_type": "error",
     "traceback": [
      "\u001b[1;36m  File \u001b[1;32m\"<ipython-input-24-8b77c7c0fc22>\"\u001b[1;36m, line \u001b[1;32m9\u001b[0m\n\u001b[1;33m    \u001b[0m\n\u001b[1;37m    ^\u001b[0m\n\u001b[1;31mSyntaxError\u001b[0m\u001b[1;31m:\u001b[0m unexpected EOF while parsing\n"
     ]
    }
   ],
   "source": [
    "liste3=[1,2,3,4,5,6,7,8,9,10]\n",
    "\n",
    "for i in liste3:\n",
    "    \n",
    "    if(i%2==0):\n",
    "        print(\"Cift sayi:\",i)\n",
    "    \n",
    "    else:"
   ]
  },
  {
   "cell_type": "code",
   "execution_count": 25,
   "metadata": {},
   "outputs": [
    {
     "name": "stdout",
     "output_type": "stream",
     "text": [
      "Cift sayi: 2\n",
      "Cift sayi: 4\n",
      "Cift sayi: 6\n",
      "Cift sayi: 8\n",
      "Cift sayi: 10\n"
     ]
    }
   ],
   "source": [
    "liste3=[1,2,3,4,5,6,7,8,9,10]\n",
    "\n",
    "for i in liste3:\n",
    "    \n",
    "    if(i%2==0):\n",
    "        print(\"Cift sayi:\",i)\n",
    "    \n",
    "    else:\n",
    "        pass"
   ]
  },
  {
   "cell_type": "code",
   "execution_count": 30,
   "metadata": {},
   "outputs": [
    {
     "name": "stdout",
     "output_type": "stream",
     "text": [
      "[1, 2]\n",
      "[4, 5]\n",
      "[5, 6]\n",
      "[1, 2]\n",
      "[4, 5]\n",
      "[5, 6]\n",
      "[1, 2]\n",
      "[4, 5]\n",
      "[5, 6]\n"
     ]
    }
   ],
   "source": [
    "liste=[[1,2],[4,5],[5,6]]\n",
    "\n",
    "for i in liste:\n",
    "    for j in liste:\n",
    "        print(j)"
   ]
  },
  {
   "cell_type": "code",
   "execution_count": 31,
   "metadata": {},
   "outputs": [
    {
     "name": "stdout",
     "output_type": "stream",
     "text": [
      "1\n",
      "2\n",
      "4\n",
      "5\n",
      "5\n",
      "6\n"
     ]
    }
   ],
   "source": [
    "liste=[[1,2],[4,5],[5,6]]\n",
    "\n",
    "for i in liste:\n",
    "    for j in i:\n",
    "        print(j)"
   ]
  },
  {
   "cell_type": "code",
   "execution_count": 33,
   "metadata": {},
   "outputs": [
    {
     "name": "stdout",
     "output_type": "stream",
     "text": [
      "1 2 3\n"
     ]
    }
   ],
   "source": [
    "i,j,k=[1,2,3]\n",
    "print(i,j,k)"
   ]
  },
  {
   "cell_type": "code",
   "execution_count": 32,
   "metadata": {},
   "outputs": [
    {
     "name": "stdout",
     "output_type": "stream",
     "text": [
      "6\n",
      "200\n",
      "450\n"
     ]
    }
   ],
   "source": [
    "liste=[[1,2,3],[4,5,10],[5,6,15]]\n",
    "\n",
    "for i,j,k in liste:\n",
    "    print(i*j*k)"
   ]
  },
  {
   "cell_type": "markdown",
   "metadata": {},
   "source": [
    "# While Fonksiyonu"
   ]
  },
  {
   "cell_type": "code",
   "execution_count": 37,
   "metadata": {},
   "outputs": [
    {
     "name": "stdout",
     "output_type": "stream",
     "text": [
      "Dongunun ici.\n",
      "0\n",
      "Dongunun ici.\n",
      "1\n",
      "Dongunun ici.\n",
      "2\n",
      "Dongunun ici.\n",
      "3\n",
      "Dongunun ici.\n",
      "4\n",
      "Dongunun ici.\n",
      "5\n",
      "Dongunun ici.\n",
      "6\n",
      "Dongunun ici.\n",
      "7\n",
      "Dongunun ici.\n",
      "8\n",
      "Dongunun ici.\n",
      "9\n",
      "Dongu Sonlandi. 10\n"
     ]
    }
   ],
   "source": [
    "sayac=0\n",
    "\n",
    "while(sayac<10):\n",
    "    \n",
    "    print(\"Dongunun ici.\");print(sayac)\n",
    "    \n",
    "    sayac+=1\n",
    "\n",
    "print(\"Dongu Sonlandi.\",sayac)"
   ]
  },
  {
   "cell_type": "markdown",
   "metadata": {},
   "source": [
    "# break Operatörü"
   ]
  },
  {
   "cell_type": "code",
   "execution_count": 38,
   "metadata": {},
   "outputs": [
    {
     "name": "stdout",
     "output_type": "stream",
     "text": [
      "Dongunun ici.\n",
      "0\n",
      "Dongunun ici.\n",
      "1\n",
      "Dongunun ici.\n",
      "2\n",
      "Dongunun ici.\n",
      "3\n",
      "Dongunun ici.\n",
      "4\n",
      "Dongunun ici.\n",
      "5\n",
      "Dongu Sonlandi. 6\n"
     ]
    }
   ],
   "source": [
    "sayac=0\n",
    "\n",
    "while(sayac<10):\n",
    "    \n",
    "    print(\"Dongunun ici.\");print(sayac)\n",
    "    \n",
    "    sayac+=1\n",
    "    \n",
    "    if(sayac==6):\n",
    "        break\n",
    "\n",
    "print(\"Dongu Sonlandi.\",sayac)"
   ]
  },
  {
   "cell_type": "markdown",
   "metadata": {},
   "source": [
    "# continue Operatörü"
   ]
  },
  {
   "cell_type": "code",
   "execution_count": 39,
   "metadata": {},
   "outputs": [
    {
     "name": "stdout",
     "output_type": "stream",
     "text": [
      "Dongunun ici.\n",
      "0\n",
      "Dongunun ici.\n",
      "1\n",
      "Dongunun ici.\n",
      "2\n",
      "Dongunun ici.\n",
      "3\n",
      "Dongunun ici.\n",
      "4\n",
      "Dongunun ici.\n",
      "5\n",
      "Dongunun ici.\n",
      "6\n",
      "Dongunun ici.\n",
      "7\n",
      "Dongunun ici.\n",
      "8\n",
      "Dongunun ici.\n",
      "9\n",
      "Dongu Sonlandi. 10\n"
     ]
    }
   ],
   "source": [
    "sayac=0\n",
    "\n",
    "while(sayac<10):\n",
    "    \n",
    "    print(\"Dongunun ici.\");print(sayac)\n",
    "    \n",
    "    sayac+=1\n",
    "    \n",
    "    if(sayac==6):\n",
    "        continue\n",
    "\n",
    "print(\"Dongu Sonlandi.\",sayac)"
   ]
  },
  {
   "cell_type": "code",
   "execution_count": 45,
   "metadata": {},
   "outputs": [
    {
     "name": "stdout",
     "output_type": "stream",
     "text": [
      "Dongunun ici.\n",
      "0\n",
      "Dongunun ici.\n",
      "1\n",
      "Dongunun ici.\n",
      "2\n",
      "Dongunun ici.\n",
      "3\n",
      "Dongunun ici.\n",
      "4\n",
      "Dongunun ici.\n",
      "5\n",
      "Dongunun ici.\n",
      "7\n",
      "Dongunun ici.\n",
      "8\n",
      "Dongunun ici.\n",
      "9\n",
      "Dongu Sonlandi. 10\n"
     ]
    }
   ],
   "source": [
    "sayac=0\n",
    "\n",
    "while(sayac<10):\n",
    "    \n",
    "    if(sayac==6):\n",
    "        sayac+=1\n",
    "        continue\n",
    "        \n",
    "    print(\"Dongunun ici.\");print(sayac)\n",
    "    sayac+=1\n",
    "    \n",
    "print(\"Dongu Sonlandi.\",sayac)"
   ]
  },
  {
   "cell_type": "markdown",
   "metadata": {},
   "source": [
    "# Range Fonksiyonu"
   ]
  },
  {
   "cell_type": "code",
   "execution_count": 46,
   "metadata": {},
   "outputs": [
    {
     "data": {
      "text/plain": [
       "range(0, 6)"
      ]
     },
     "execution_count": 46,
     "metadata": {},
     "output_type": "execute_result"
    }
   ],
   "source": [
    "range(6)"
   ]
  },
  {
   "cell_type": "code",
   "execution_count": 48,
   "metadata": {},
   "outputs": [
    {
     "name": "stdout",
     "output_type": "stream",
     "text": [
      "range(0, 6)\n"
     ]
    }
   ],
   "source": [
    "print(range(6))"
   ]
  },
  {
   "cell_type": "code",
   "execution_count": 49,
   "metadata": {},
   "outputs": [
    {
     "name": "stdout",
     "output_type": "stream",
     "text": [
      "0 1 2 3 4 5\n"
     ]
    }
   ],
   "source": [
    "print(*range(6))"
   ]
  },
  {
   "cell_type": "code",
   "execution_count": 50,
   "metadata": {},
   "outputs": [
    {
     "name": "stdout",
     "output_type": "stream",
     "text": [
      "1 2 3 4 5 6 7\n"
     ]
    }
   ],
   "source": [
    "print(*range(1,8))"
   ]
  },
  {
   "cell_type": "code",
   "execution_count": 51,
   "metadata": {},
   "outputs": [
    {
     "name": "stdout",
     "output_type": "stream",
     "text": [
      "5 10 15 20 25 30 35 40 45\n"
     ]
    }
   ],
   "source": [
    "print(*range(5,50,5))"
   ]
  },
  {
   "cell_type": "code",
   "execution_count": 52,
   "metadata": {},
   "outputs": [
    {
     "name": "stdout",
     "output_type": "stream",
     "text": [
      "50 45 40 35 30 25 20 15 10\n"
     ]
    }
   ],
   "source": [
    "print(*range(50,5,-5))"
   ]
  },
  {
   "cell_type": "code",
   "execution_count": 57,
   "metadata": {},
   "outputs": [
    {
     "data": {
      "text/plain": [
       "[range(0, 20)]"
      ]
     },
     "execution_count": 57,
     "metadata": {},
     "output_type": "execute_result"
    }
   ],
   "source": [
    "liste5=[range(0,20)]\n",
    "liste5"
   ]
  },
  {
   "cell_type": "code",
   "execution_count": 56,
   "metadata": {},
   "outputs": [
    {
     "name": "stdout",
     "output_type": "stream",
     "text": [
      "[range(0, 20)]\n"
     ]
    }
   ],
   "source": [
    "liste5=[range(0,20)]\n",
    "print(liste5)"
   ]
  },
  {
   "cell_type": "code",
   "execution_count": 55,
   "metadata": {},
   "outputs": [
    {
     "data": {
      "text/plain": [
       "[0, 1, 2, 3, 4, 5, 6, 7, 8, 9, 10, 11, 12, 13, 14, 15, 16, 17, 18, 19]"
      ]
     },
     "execution_count": 55,
     "metadata": {},
     "output_type": "execute_result"
    }
   ],
   "source": [
    "liste5=[*range(0,20)]\n",
    "liste5"
   ]
  },
  {
   "cell_type": "code",
   "execution_count": 59,
   "metadata": {},
   "outputs": [
    {
     "name": "stdout",
     "output_type": "stream",
     "text": [
      "0\n",
      "1\n",
      "2\n",
      "3\n",
      "4\n",
      "5\n",
      "6\n",
      "7\n",
      "8\n",
      "9\n"
     ]
    }
   ],
   "source": [
    "liste6=list(range(0,10))\n",
    "\n",
    "sayac=0\n",
    "while(sayac<len(liste6)):\n",
    "    print(sayac)\n",
    "    sayac+=1\n",
    "    "
   ]
  },
  {
   "cell_type": "code",
   "execution_count": 60,
   "metadata": {},
   "outputs": [
    {
     "name": "stdout",
     "output_type": "stream",
     "text": [
      "Hello\n",
      "Hello\n",
      "Hello\n",
      "Hello\n",
      "Hello\n",
      "Hello\n",
      "Hello\n",
      "Hello\n",
      "Hello\n"
     ]
    }
   ],
   "source": [
    "for sayi in range(1,10):\n",
    "    print(\"Hello\")"
   ]
  },
  {
   "cell_type": "code",
   "execution_count": 61,
   "metadata": {},
   "outputs": [
    {
     "name": "stdout",
     "output_type": "stream",
     "text": [
      "1\n",
      "2\n",
      "3\n",
      "4\n",
      "5\n",
      "6\n",
      "7\n",
      "8\n",
      "9\n"
     ]
    }
   ],
   "source": [
    "for sayi in range(1,10):\n",
    "    print(sayi)"
   ]
  },
  {
   "cell_type": "code",
   "execution_count": 63,
   "metadata": {},
   "outputs": [
    {
     "name": "stdout",
     "output_type": "stream",
     "text": [
      "+ \n",
      "+ + \n",
      "+ + + \n",
      "+ + + + \n",
      "+ + + + + \n",
      "+ + + + + + \n",
      "+ + + + + + + \n",
      "+ + + + + + + + \n",
      "+ + + + + + + + + \n",
      "+ + + + + + + + + + \n",
      "+ + + + + + + + + + + \n",
      "+ + + + + + + + + + + + \n",
      "+ + + + + + + + + + + + + \n",
      "+ + + + + + + + + + + + + + \n"
     ]
    }
   ],
   "source": [
    "for sayi in range(1,15):\n",
    "    print(\"+ \"*sayi)"
   ]
  },
  {
   "cell_type": "markdown",
   "metadata": {},
   "source": [
    "### ÖRNEKLER"
   ]
  },
  {
   "cell_type": "markdown",
   "metadata": {},
   "source": [
    "#### 1- Kullanıcı tarafından girilecek kelimeyi 10 kere ekrana yazmayı sağlayan programı döngü kullanmadan ve döngü kullanarak kodlayalım."
   ]
  },
  {
   "cell_type": "code",
   "execution_count": 65,
   "metadata": {},
   "outputs": [
    {
     "name": "stdin",
     "output_type": "stream",
     "text": [
      "Kelime giriniz: python\n"
     ]
    },
    {
     "name": "stdout",
     "output_type": "stream",
     "text": [
      "python\n",
      "python\n",
      "python\n",
      "python\n",
      "python\n",
      "python\n",
      "python\n",
      "python\n",
      "python\n",
      "python\n",
      "python\n",
      "python\n",
      "python\n",
      "python\n",
      "python\n",
      "python\n",
      "python\n",
      "python\n"
     ]
    }
   ],
   "source": [
    "kelime=input(\"Kelime giriniz:\")\n",
    "\n",
    "#Döngü kullanmadan\n",
    "print(kelime)\n",
    "print(kelime)\n",
    "print(kelime)\n",
    "print(kelime)\n",
    "print(kelime)\n",
    "print(kelime)\n",
    "print(kelime)\n",
    "print(kelime)\n",
    "print(kelime)\n",
    "print(kelime)\n",
    "print(kelime)\n",
    "print(kelime)\n",
    "print(kelime)\n",
    "print(kelime)\n",
    "print(kelime)\n",
    "print(kelime)\n",
    "print(kelime)\n",
    "print(kelime)"
   ]
  },
  {
   "cell_type": "code",
   "execution_count": 1,
   "metadata": {},
   "outputs": [
    {
     "name": "stdin",
     "output_type": "stream",
     "text": [
      "Kelime giriniz: Python\n"
     ]
    },
    {
     "name": "stdout",
     "output_type": "stream",
     "text": [
      "Python\n",
      "Python\n",
      "Python\n",
      "Python\n",
      "Python\n",
      "Python\n",
      "Python\n",
      "Python\n",
      "Python\n",
      "Python\n",
      "Python\n"
     ]
    }
   ],
   "source": [
    "\n",
    "# Döngü Kullanarak\n",
    "kelime=input(\"Kelime giriniz:\")\n",
    "sayac=0\n",
    "\n",
    "while(sayac<=10):\n",
    "    print(kelime)\n",
    "    sayac+=1"
   ]
  },
  {
   "cell_type": "markdown",
   "metadata": {},
   "source": [
    "#### 2-Kullanıcı tarafından girilecek sayıya kadar tek sayıları ve çift sayıları ayrı ayrı listelerde tutarak bu sayıların ortalamalarını ayrı ayrı ekrana yazdıran programı kodlayalım.\n"
   ]
  },
  {
   "cell_type": "code",
   "execution_count": 67,
   "metadata": {},
   "outputs": [
    {
     "name": "stdin",
     "output_type": "stream",
     "text": [
      "sayiyi giriniz: 10\n"
     ]
    },
    {
     "name": "stdout",
     "output_type": "stream",
     "text": [
      "0\n",
      "1\n",
      "2\n",
      "3\n",
      "4\n",
      "5\n",
      "6\n",
      "7\n",
      "8\n",
      "9\n"
     ]
    }
   ],
   "source": [
    "sayi=int(input(\"sayiyi giriniz:\"))\n",
    "\n",
    "for i in range(0,sayi):\n",
    "    \n",
    "    print(i)"
   ]
  },
  {
   "cell_type": "code",
   "execution_count": 68,
   "metadata": {},
   "outputs": [
    {
     "name": "stdin",
     "output_type": "stream",
     "text": [
      "sayiyi giriniz: 20\n"
     ]
    },
    {
     "name": "stdout",
     "output_type": "stream",
     "text": [
      "Tek sayilar: [1, 3, 5, 7, 9, 11, 13, 15, 17, 19]\n",
      "Cift Sayilar: [0, 2, 4, 6, 8, 10, 12, 14, 16, 18]\n"
     ]
    }
   ],
   "source": [
    "sayi=int(input(\"sayiyi giriniz:\"))\n",
    "\n",
    "cift_liste=[]\n",
    "tek_liste=[]\n",
    "\n",
    "for i in range(0,sayi):\n",
    "    \n",
    "    if(i%2==0):\n",
    "        cift_liste.append(i)\n",
    "    \n",
    "    else:\n",
    "        tek_liste.append(i)\n",
    "        \n",
    "\n",
    "print(\"Tek sayilar:\",tek_liste)\n",
    "print(\"Cift Sayilar:\",cift_liste)\n",
    "    "
   ]
  },
  {
   "cell_type": "code",
   "execution_count": 70,
   "metadata": {},
   "outputs": [
    {
     "name": "stdin",
     "output_type": "stream",
     "text": [
      "sayiyi giriniz: 6\n"
     ]
    },
    {
     "name": "stdout",
     "output_type": "stream",
     "text": [
      "Tek sayilar: [1, 3, 5]\n",
      "Cift sayilar: [0, 2, 4]\n",
      "Tek sayilarin toplami: 9\n",
      "Cift sayilarin toplami: 6\n"
     ]
    }
   ],
   "source": [
    "sayi=int(input(\"sayiyi giriniz:\"))\n",
    "\n",
    "cift_liste=[]\n",
    "tek_liste=[]\n",
    "\n",
    "cift_toplam=0\n",
    "tek_toplam=0\n",
    "\n",
    "for i in range(0,sayi):\n",
    "    \n",
    "    if(i%2==0):\n",
    "        cift_liste.append(i)\n",
    "        cift_toplam+=i\n",
    "        \n",
    "    \n",
    "    else:\n",
    "        tek_liste.append(i)\n",
    "        tek_toplam+=i\n",
    "        \n",
    "\n",
    "print(\"Tek sayilar:\",tek_liste)\n",
    "print(\"Cift sayilar:\",cift_liste)\n",
    "print(\"Tek sayilarin toplami:\",tek_toplam)\n",
    "print(\"Cift sayilarin toplami:\",cift_toplam)"
   ]
  },
  {
   "cell_type": "code",
   "execution_count": 71,
   "metadata": {},
   "outputs": [
    {
     "name": "stdin",
     "output_type": "stream",
     "text": [
      "sayiyi giriniz: 10\n"
     ]
    },
    {
     "name": "stdout",
     "output_type": "stream",
     "text": [
      "Tek sayilar: [1, 3, 5, 7, 9]\n",
      "Cift sayilar: [0, 2, 4, 6, 8]\n",
      "Tek sayilarin toplami: 25\n",
      "Cift sayilarin toplami: 20\n",
      "Tek sayilarin ortalamasi: 5.0\n",
      "Cift sayilarin ortalamasi: 4.0\n"
     ]
    }
   ],
   "source": [
    "sayi=int(input(\"sayiyi giriniz:\"))\n",
    "\n",
    "cift_liste=[]\n",
    "tek_liste=[]\n",
    "\n",
    "cift_toplam=0\n",
    "tek_toplam=0\n",
    "\n",
    "cift_sayi_sayac=0\n",
    "tek_sayi_sayac=0\n",
    "\n",
    "for i in range(0,sayi):\n",
    "    \n",
    "    if(i%2==0):\n",
    "        cift_liste.append(i)\n",
    "        cift_toplam+=i\n",
    "        cift_sayi_sayac+=1\n",
    "        \n",
    "    \n",
    "    else:\n",
    "        tek_liste.append(i)\n",
    "        tek_toplam+=i\n",
    "        tek_sayi_sayac+=1\n",
    "\n",
    "print(\"Tek sayilar:\",tek_liste)\n",
    "print(\"Cift sayilar:\",cift_liste)\n",
    "print(\"Tek sayilarin toplami:\",tek_toplam)\n",
    "print(\"Cift sayilarin toplami:\",cift_toplam)\n",
    "print(\"Tek sayilarin ortalamasi:\",tek_toplam/tek_sayi_sayac)\n",
    "print(\"Cift sayilarin ortalamasi:\",cift_toplam/cift_sayi_sayac)"
   ]
  },
  {
   "cell_type": "markdown",
   "metadata": {},
   "source": [
    "#### 3-Kullanıcı  \"Q\"  ya da  \"q\" tuşuna bastığında programı sonlandıran, temel matematiksel işlemleri yapan bir hesap makinesi kodlayalım.\n"
   ]
  },
  {
   "cell_type": "code",
   "execution_count": 75,
   "metadata": {},
   "outputs": [
    {
     "name": "stdin",
     "output_type": "stream",
     "text": [
      "birinci sayiyi giriniz: 10\n",
      "ikinci sayiyi giriniz: 5\n",
      "Karakteri giriniz: -\n"
     ]
    },
    {
     "name": "stdout",
     "output_type": "stream",
     "text": [
      "5\n"
     ]
    }
   ],
   "source": [
    "# siz döngüde karakter q ya da Q gelmediği sürece döngüyü bitirmeyen ve tekrar karakter isteyerek\n",
    "# işlemleri devam ettiren yapıyı kurunuz.\n",
    "\n",
    "sayi1=int(input(\"birinci sayiyi giriniz:\"))\n",
    "sayi2=int(input(\"ikinci sayiyi giriniz:\"))\n",
    "\n",
    "karakter=input(\"Karakteri giriniz:\")\n",
    "\n",
    "while(True):\n",
    "    \n",
    "    if(karakter==\"Q\" or karakter==\"q\"):\n",
    "        break\n",
    "        \n",
    "    if(karakter==\"+\"):\n",
    "        toplam=sayi1+sayi2\n",
    "        print(toplam)\n",
    "        break\n",
    "        \n",
    "    if(karakter==\"-\"):\n",
    "        cikarma=sayi1-sayi2\n",
    "        print(cikarma)\n",
    "        break\n",
    "    \n",
    "    if(karakter==\"*\"):\n",
    "        carpma=sayi1*sayi2\n",
    "        print(carpma)\n",
    "        break\n",
    "        \n",
    "    if(karakter==\"/\"):\n",
    "        bolme=sayi1/sayi2\n",
    "        print(bolme)\n",
    "        break\n",
    "\n"
   ]
  },
  {
   "cell_type": "markdown",
   "metadata": {},
   "source": [
    "#### 4-Kullanıcı tarafında girilecek bir sayıya kadar olan özel üçgenleri ekrana yazdıran programı kodlayalım.\n"
   ]
  },
  {
   "cell_type": "code",
   "execution_count": 77,
   "metadata": {},
   "outputs": [
    {
     "name": "stdin",
     "output_type": "stream",
     "text": [
      "Sayiyi giriniz: 50\n"
     ]
    },
    {
     "name": "stdout",
     "output_type": "stream",
     "text": [
      "3 4 5\n",
      "4 3 5\n",
      "6 8 10\n",
      "8 6 10\n",
      "5 12 13\n",
      "12 5 13\n",
      "9 12 15\n",
      "12 9 15\n",
      "8 15 17\n",
      "15 8 17\n",
      "12 16 20\n",
      "16 12 20\n",
      "7 24 25\n",
      "15 20 25\n",
      "20 15 25\n",
      "24 7 25\n",
      "10 24 26\n",
      "24 10 26\n",
      "20 21 29\n",
      "21 20 29\n",
      "18 24 30\n",
      "24 18 30\n",
      "16 30 34\n",
      "30 16 34\n",
      "21 28 35\n",
      "28 21 35\n",
      "12 35 37\n",
      "35 12 37\n",
      "15 36 39\n",
      "36 15 39\n",
      "24 32 40\n",
      "32 24 40\n",
      "9 40 41\n",
      "40 9 41\n",
      "27 36 45\n",
      "36 27 45\n"
     ]
    }
   ],
   "source": [
    "# Aşağıdaki örneği dijital saat tasarımı için tekrarlayınız: (0:0:0 -23:59:59)\n",
    "\n",
    "\n",
    "sayi=int(input(\"Sayiyi giriniz:\"))\n",
    "\n",
    "for i in range(1,sayi):\n",
    "    for j in range(1,sayi):\n",
    "        for k in range(1,sayi):\n",
    "            if((k**2+j**2) == i**2):\n",
    "                print(j,k,i)\n",
    "\n"
   ]
  },
  {
   "cell_type": "markdown",
   "metadata": {},
   "source": [
    "# Kalan Örnekler "
   ]
  },
  {
   "cell_type": "markdown",
   "metadata": {},
   "source": [
    "# 5- Kullanıcı tarafından girilecek bir sayıya kadar sayıların toplamını ekrana yazdıran programı kodlayalım.\n",
    "\n",
    "# 6- Kullanıcı tarafından girilecek bir sayının faktöriyelini bulan ve ekrana yazdıran programı kodlayalım.\n",
    "\n",
    "# 7- Kullanıcıdan bir programa giriş için kullanıcı adı ve şifreyi isteyiniz. Girilen bilgilerin doğruluğu ve yanlışlığına göre kullanıcıyı yönlendiriniz. Kullanıcı bilgilerini 3 defa yanlış girerse programdan atınız. Bu işlemi yapan programı kodlayalım.\n",
    "\n",
    "\n"
   ]
  },
  {
   "cell_type": "code",
   "execution_count": null,
   "metadata": {},
   "outputs": [],
   "source": []
  }
 ],
 "metadata": {
  "kernelspec": {
   "display_name": "Python 3",
   "language": "python",
   "name": "python3"
  },
  "language_info": {
   "codemirror_mode": {
    "name": "ipython",
    "version": 3
   },
   "file_extension": ".py",
   "mimetype": "text/x-python",
   "name": "python",
   "nbconvert_exporter": "python",
   "pygments_lexer": "ipython3",
   "version": "3.8.5"
  }
 },
 "nbformat": 4,
 "nbformat_minor": 4
}
