{
 "cells": [
  {
   "cell_type": "markdown",
   "metadata": {},
   "source": [
    "# Messagebox "
   ]
  },
  {
   "cell_type": "code",
   "execution_count": 1,
   "metadata": {},
   "outputs": [
    {
     "data": {
      "text/plain": [
       "'ok'"
      ]
     },
     "execution_count": 1,
     "metadata": {},
     "output_type": "execute_result"
    }
   ],
   "source": [
    "import tkinter\n",
    "import tkinter.messagebox\n",
    "\n",
    "\n",
    "tkinter.messagebox.showinfo(\"Başlık\",\" Bilgi Mesajı\")"
   ]
  },
  {
   "cell_type": "code",
   "execution_count": null,
   "metadata": {},
   "outputs": [],
   "source": [
    "from tkinter import * \n",
    "from tkinter import messagebox\n",
    "\n",
    "root= Tk()\n",
    "root.withdraw()\n",
    "\n",
    "# messagebox type\n",
    "\n",
    "messagebox.showerror(\"Hata\",\"Hata Mesajı\")\n",
    "messagebox.showwarning(\"Uyarı\",\"Uyarı Mesajı\")\n",
    "messagebox.showinfo(\"Bilgi\",\"Bilgi Mesajı\")"
   ]
  },
  {
   "cell_type": "code",
   "execution_count": 3,
   "metadata": {},
   "outputs": [],
   "source": [
    "from tkinter import * \n",
    "from tkinter import messagebox as mb\n",
    "\n",
    "def mesaj_kutusu():\n",
    "    \n",
    "    soru=mb.askquestion(\"Cıkıs\",\"Çıkmak İstiyor musun?\")\n",
    "    \n",
    "    if(soru=='yes'):\n",
    "        gui.destroy()\n",
    "        \n",
    "    elif(soru=='no'):\n",
    "        mb.showinfo(\"Bilgi\",\"Ana menüye dön\")\n",
    "\n",
    "\n",
    "\n",
    "gui=Tk()\n",
    "\n",
    "canvas=Canvas(gui, width=200, height=200)\n",
    "canvas.pack()\n",
    "\n",
    "buton=Button(gui, text=\"Cıkıs\", command=mesaj_kutusu)\n",
    "\n",
    "canvas.create_window(100,100, window=buton)\n",
    "\n",
    "gui.mainloop()"
   ]
  },
  {
   "cell_type": "markdown",
   "metadata": {},
   "source": [
    "# Örnek"
   ]
  },
  {
   "cell_type": "code",
   "execution_count": null,
   "metadata": {},
   "outputs": [],
   "source": [
    "from tkinter import *\n",
    "import tkinter.messagebox as mb\n",
    "\n",
    "\n",
    "\n",
    "\n",
    "def mesaj():\n",
    "    \n",
    "    username=username_girdi.get()\n",
    "    password=password_girdi.get()\n",
    "    \n",
    "    if(username==\"yonet\" and password==\"!12\"):\n",
    "        mb.showinfo(\"Bilgi\",\"Giriş Başarılı\")\n",
    "        \n",
    "    else:\n",
    "        mb.showwarning(\"Uyarı\",\"Kullanıcı bilgileri hatalı!\")\n",
    "\n",
    "\n",
    "\n",
    "\n",
    "window=Tk()\n",
    "\n",
    "window.title(\"Login\")\n",
    "window.geometry(\"400x400\")\n",
    "window.resizable(0,0)\n",
    "\n",
    "\n",
    "username_lbl=Label(window, text=\"Username:\", font=(\"Calibri\",15))\n",
    "username_lbl.pack(side=TOP,pady=10)\n",
    "\n",
    "username_girdi=Entry(window)\n",
    "username_girdi.pack(side=TOP,pady=10)\n",
    "\n",
    "password_lbl=Label(window, text=\"Password:\", font=(\"Calibri\",15))\n",
    "password_lbl.pack(side=TOP,pady=15)\n",
    "\n",
    "password_girdi=Entry(window)\n",
    "password_girdi.pack(side=TOP,pady=15)\n",
    "\n",
    "\n",
    "frame=Frame(window)\n",
    "frame.config(bg=\"coral\")\n",
    "frame.pack(pady=30,ipadx=20,ipady=20)\n",
    "\n",
    "\n",
    "btn=Button(frame,text=\"Giriş\", command=mesaj)\n",
    "btn.pack(padx=5,pady=15)\n",
    "\n",
    "window.mainloop()"
   ]
  },
  {
   "cell_type": "markdown",
   "metadata": {},
   "source": [
    "# Command kısıtlılığı"
   ]
  },
  {
   "cell_type": "code",
   "execution_count": 3,
   "metadata": {},
   "outputs": [],
   "source": [
    "from tkinter import *\n",
    "import tkinter.messagebox as mb\n",
    "\n",
    "\n",
    "\n",
    "\n",
    "def mesaj():\n",
    "    \n",
    "    username=username_girdi.get()\n",
    "    password=password_girdi.get()\n",
    "    \n",
    "    if(username==\"yonet\" and password==\"!12\"):\n",
    "        mb.showinfo(\"Bilgi\",\"Giriş Başarılı\")\n",
    "        \n",
    "    else:\n",
    "        mb.showwarning(\"Uyarı\",\"Kullanıcı bilgileri hatalı!\")\n",
    "\n",
    "\n",
    "\n",
    "\n",
    "window=Tk()\n",
    "\n",
    "window.title(\"Login\")\n",
    "window.geometry(\"400x400\")\n",
    "window.resizable(0,0)\n",
    "\n",
    "\n",
    "# username_lbl üzerinde command parametresini tanımladığımızda hata verecektir.\n",
    "username_lbl=Label(window, text=\"Username:\", font=(\"Calibri\",15))\n",
    "username_lbl.pack(side=TOP,pady=10)\n",
    "\n",
    "username_girdi=Entry(window)\n",
    "username_girdi.pack(side=TOP,pady=10)\n",
    "\n",
    "password_lbl=Label(window, text=\"Password:\", font=(\"Calibri\",15))\n",
    "password_lbl.pack(side=TOP,pady=15)\n",
    "\n",
    "password_girdi=Entry(window)\n",
    "password_girdi.pack(side=TOP,pady=15)\n",
    "\n",
    "\n",
    "frame=Frame(window)\n",
    "frame.config(bg=\"coral\")\n",
    "frame.pack(pady=30,ipadx=20,ipady=20)\n",
    "\n",
    "\n",
    "btn=Button(frame,text=\"Giriş\", command=mesaj)\n",
    "btn.pack(padx=5,pady=15)\n",
    "\n",
    "window.mainloop()"
   ]
  },
  {
   "cell_type": "markdown",
   "metadata": {},
   "source": [
    "# Event Binding (Olay Bağlama)\n",
    "\n",
    "# Tanımı\n",
    "# widget.bind(event, handler=function, add=None)"
   ]
  },
  {
   "cell_type": "code",
   "execution_count": 5,
   "metadata": {},
   "outputs": [],
   "source": [
    "from tkinter import *\n",
    "\n",
    "def fonksiyon(event):\n",
    "    print(\"Enter tuşuna basıldı.\")\n",
    "\n",
    "gui=Tk()\n",
    "gui.geometry(\"200x200\")\n",
    "\n",
    "btn=Button(gui, text=\"Kaydet\", font=(\"Calibri\",20), bg=\"salmon\")\n",
    "btn.pack(expand=True, side=TOP, pady=40, ipadx=20, ipady=20)\n",
    "btn.bind('<Return>', fonksiyon)\n",
    "\n",
    "gui.mainloop()"
   ]
  },
  {
   "cell_type": "markdown",
   "metadata": {},
   "source": [
    "# focus()"
   ]
  },
  {
   "cell_type": "code",
   "execution_count": 4,
   "metadata": {},
   "outputs": [],
   "source": [
    "from tkinter import *\n",
    "\n",
    "def fonksiyon(event):\n",
    "    print(\"Enter tuşuna basıldı.\")\n",
    "\n",
    "gui=Tk()\n",
    "gui.geometry(\"200x200\")\n",
    "\n",
    "btn=Button(gui, text=\"Kaydet\", font=(\"Calibri\",20), bg=\"pale green\")\n",
    "btn.pack(expand=True, side=TOP, pady=40, ipadx=20, ipady=20)\n",
    "btn.bind('<Return>', fonksiyon)\n",
    "btn.focus()\n",
    "\n",
    "gui.mainloop()"
   ]
  },
  {
   "cell_type": "code",
   "execution_count": null,
   "metadata": {},
   "outputs": [],
   "source": [
    "from tkinter import *\n",
    "\n",
    "def fonksiyon(event):\n",
    "    print(\"Enter tuşuna basıldı.\")\n",
    "\n",
    "gui=Tk()\n",
    "gui.geometry(\"200x200\")\n",
    "\n",
    "labl=Label(gui, text=\"Kaydet\", font=(\"Calibri\",20))\n",
    "labl.pack(expand=True, side=TOP, pady=40, ipadx=20, ipady=20)\n",
    "labl.bind('<Return>', fonksiyon)\n",
    "labl.focus()\n",
    "\n",
    "gui.mainloop()"
   ]
  },
  {
   "cell_type": "code",
   "execution_count": 5,
   "metadata": {},
   "outputs": [],
   "source": [
    "from tkinter import *\n",
    "\n",
    "\n",
    "def fonksiyon(e):\n",
    "    label=Label(gui,text=\"Enter tuşuna basıldı.\")\n",
    "    label.pack()\n",
    "    \n",
    "\n",
    "gui=Tk()\n",
    "gui.geometry(\"200x200\")\n",
    "\n",
    "Label(gui, text=\"Klavyeden Enter Tuşuna Basınız.\", font=(\"Calibri\",20)).pack(pady=20)\n",
    "\n",
    "gui.bind('<Return>', fonksiyon)\n",
    "\n",
    "gui.mainloop()\n"
   ]
  },
  {
   "cell_type": "code",
   "execution_count": 6,
   "metadata": {},
   "outputs": [
    {
     "name": "stdout",
     "output_type": "stream",
     "text": [
      "Mouse tıklandı\n",
      "Mouse tıklandı\n",
      "Mouse tıklandı\n"
     ]
    }
   ],
   "source": [
    "from tkinter import *\n",
    "\n",
    "\n",
    "def fonksiyon(e):\n",
    "    print(\"Mouse tıklandı\")\n",
    "\n",
    "    \n",
    "\n",
    "gui=Tk()\n",
    "gui.geometry(\"200x200\")\n",
    "\n",
    "label=Label(gui,text=\"Tıkla\",font=(\"Arial\",20))\n",
    "label.pack()\n",
    "\n",
    "label.bind('<Button>', fonksiyon)\n",
    "\n",
    "gui.mainloop()\n"
   ]
  },
  {
   "attachments": {
    "6461b046-5c0e-41fe-9db9-64adc7dd7891.png": {
     "image/png": "[encoded data removed]"
    }
   },
   "cell_type": "markdown",
   "metadata": {},
   "source": [
    "![image.png](attachment:6461b046-5c0e-41fe-9db9-64adc7dd7891.png)"
   ]
  },
  {
   "cell_type": "code",
   "execution_count": 8,
   "metadata": {},
   "outputs": [
    {
     "name": "stdout",
     "output_type": "stream",
     "text": [
      "Mouse Sol Buton tıklandı\n"
     ]
    }
   ],
   "source": [
    "from tkinter import *\n",
    "\n",
    "\n",
    "def fonksiyon(e):\n",
    "    print(\"Mouse Sol Buton tıklandı\")\n",
    "\n",
    "gui=Tk()\n",
    "gui.geometry(\"200x200\")\n",
    "\n",
    "label=Label(gui,text=\"Tıkla\",font=(\"Arial\",20))\n",
    "label.pack(pady=50)\n",
    "\n",
    "label.bind('<Button-1>', fonksiyon)\n",
    "\n",
    "gui.mainloop()"
   ]
  },
  {
   "cell_type": "code",
   "execution_count": 9,
   "metadata": {},
   "outputs": [
    {
     "name": "stdout",
     "output_type": "stream",
     "text": [
      "Mouse Orta Buton tıklandı\n"
     ]
    }
   ],
   "source": [
    "from tkinter import *\n",
    "\n",
    "\n",
    "def fonksiyon(e):\n",
    "    print(\"Mouse Orta Buton tıklandı\")\n",
    "\n",
    "gui=Tk()\n",
    "gui.geometry(\"200x200\")\n",
    "\n",
    "label=Label(gui,text=\"Tıkla\",font=(\"Arial\",20))\n",
    "label.pack(pady=50)\n",
    "\n",
    "label.bind('<Button-2>', fonksiyon)\n",
    "\n",
    "gui.mainloop()"
   ]
  },
  {
   "cell_type": "code",
   "execution_count": 10,
   "metadata": {},
   "outputs": [
    {
     "name": "stdout",
     "output_type": "stream",
     "text": [
      "Mouse Sağ Buton tıklandı\n"
     ]
    }
   ],
   "source": [
    "from tkinter import *\n",
    "\n",
    "\n",
    "def fonksiyon(e):\n",
    "    print(\"Mouse Sağ Buton tıklandı\")\n",
    "\n",
    "gui=Tk()\n",
    "gui.geometry(\"200x200\")\n",
    "\n",
    "label=Label(gui,text=\"Tıkla\",font=(\"Arial\",20))\n",
    "label.pack(pady=50)\n",
    "\n",
    "label.bind('<Button-3>', fonksiyon)\n",
    "\n",
    "gui.mainloop()"
   ]
  },
  {
   "cell_type": "markdown",
   "metadata": {},
   "source": [
    "# Label ve window bind()"
   ]
  },
  {
   "cell_type": "code",
   "execution_count": 17,
   "metadata": {},
   "outputs": [],
   "source": [
    "from tkinter import *\n",
    "\n",
    "\n",
    "def toplama(e):\n",
    "    \n",
    "    toplam=4+8\n",
    "    label2=Label(window, text=str(toplam))\n",
    "    label2.pack()\n",
    "    \n",
    "def cikarma(e):\n",
    "    \n",
    "    cikarma=5-8\n",
    "    label2=Label(window, text=str(cikarma))\n",
    "    label2.pack()\n",
    "\n",
    "\n",
    "window=Tk()\n",
    "window.geometry(\"200x200\")\n",
    "\n",
    "\n",
    "Label(window, text=\"\"\"Toplama işlemi yapmak için pencere üzerinde herhangi bir noktaya mouseun sol butonuna tıkla.\n",
    "\\nCikarma islemi yapmak icin label üzerine sağ tusla tıkla.\"\"\", font=(\"Calibri\",5)).pack(pady=5)\n",
    "\n",
    "\n",
    "window.bind('<Button-1>',toplama)\n",
    "\n",
    "\n",
    "label=Label(window,text=\"Tıkla\",font=(\"Arial\",20))\n",
    "label.pack(pady=50)\n",
    "\n",
    "label.bind(\"<Button-3>\",cikarma)\n",
    "\n",
    "window.mainloop()\n"
   ]
  },
  {
   "cell_type": "markdown",
   "metadata": {},
   "source": [
    "# Label1 ve Label2"
   ]
  },
  {
   "cell_type": "code",
   "execution_count": 19,
   "metadata": {},
   "outputs": [],
   "source": [
    "from tkinter import *\n",
    "\n",
    "\n",
    "def toplama(e):\n",
    "    \n",
    "    toplam=4+8\n",
    "    label3=Label(window, text=str(toplam))\n",
    "    label3.pack()\n",
    "    \n",
    "def cikarma(e):\n",
    "    \n",
    "    cikarma=5-8\n",
    "    label3=Label(window, text=str(cikarma))\n",
    "    label3.pack()\n",
    "\n",
    "\n",
    "window=Tk()\n",
    "window.geometry(\"200x200\")\n",
    "\n",
    "\n",
    "Label(window, text=\"\"\"Toplama işlemi yapmak için pencere üzerinde herhangi bir noktaya mouseun sol butonuna tıkla.\n",
    "\\nCikarma islemi yapmak icin label üzerine sağ tusla tıkla.\"\"\", font=(\"Calibri\",5)).pack(pady=5)\n",
    "\n",
    "label1=Label(window,text=\"Tıkla\",font=(\"Arial\",20))\n",
    "label1.pack(pady=10)\n",
    "label1.bind(\"<Button-1>\",toplama)\n",
    "\n",
    "\n",
    "label2=Label(window,text=\"Tıkla-2\",font=(\"Arial\",20))\n",
    "label2.pack(pady=50)\n",
    "label2.bind(\"<Button-3>\",cikarma)\n",
    "\n",
    "window.mainloop()\n"
   ]
  },
  {
   "cell_type": "markdown",
   "metadata": {},
   "source": [
    "# Event position (Olay pozisyonu)"
   ]
  },
  {
   "cell_type": "code",
   "execution_count": 7,
   "metadata": {},
   "outputs": [
    {
     "name": "stdout",
     "output_type": "stream",
     "text": [
      "Tıklama yaptiginiz noktalar: 55 48\n"
     ]
    }
   ],
   "source": [
    "\n",
    "\n",
    "def fonksiyon(event):\n",
    "    print(\"Tıklama yaptiginiz noktalar:\",event.x, event.y)\n",
    "\n",
    "\n",
    "from tkinter import *\n",
    "\n",
    "gui=Tk()\n",
    "gui.geometry(\"300x300\")\n",
    "\n",
    "Label(gui,text=\"Pencere üzerinde farkli noktalara tiklayiniz.\",font=(\"Arial\",20)).pack(pady=10)\n",
    "\n",
    "frame=Frame(gui, bg=\"light yellow\", width=100, height=100)\n",
    "frame.bind(\"<Button-1>\",fonksiyon)\n",
    "frame.pack()\n",
    "\n",
    "gui.mainloop()"
   ]
  },
  {
   "cell_type": "markdown",
   "metadata": {},
   "source": [
    "# Bind Parametreleri (Modifiers)\n",
    "\n",
    "### Button-1, Button-2, Button-3, Double 1, Enter, Leave"
   ]
  },
  {
   "cell_type": "code",
   "execution_count": null,
   "metadata": {},
   "outputs": [],
   "source": []
  },
  {
   "cell_type": "markdown",
   "metadata": {},
   "source": [
    "# Multiple Function Binding ( Çoklu Fonksiyon Bağlama)"
   ]
  },
  {
   "cell_type": "code",
   "execution_count": 24,
   "metadata": {},
   "outputs": [
    {
     "name": "stdout",
     "output_type": "stream",
     "text": [
      "Enter tuşuna basıldı.\n",
      "\n",
      "Kayıt işlemi yapıldı.\n"
     ]
    }
   ],
   "source": [
    "from tkinter import *\n",
    "\n",
    "def fonksiyon1(event):\n",
    "    print(\"Enter tuşuna basıldı.\")\n",
    "    \n",
    "def fonksiyon2(event):\n",
    "    #print(dir(event))\n",
    "    print(\"\\nKayıt işlemi yapıldı.\")\n",
    "\n",
    "\n",
    "\n",
    "gui=Tk()\n",
    "gui.geometry(\"200x200\")\n",
    "btn=Button(gui, text=\"Kaydet\")\n",
    "btn.bind('<Return>', fonksiyon1)\n",
    "btn.bind('<Return>', fonksiyon2, add='+')\n",
    "\n",
    "btn.focus()\n",
    "btn.pack(expand=True)\n",
    "\n",
    "gui.mainloop()"
   ]
  },
  {
   "cell_type": "markdown",
   "metadata": {},
   "source": [
    "# bind() ile alakalı başlıklar"
   ]
  },
  {
   "cell_type": "markdown",
   "metadata": {},
   "source": [
    "### Event types,\n",
    "### Event modifiers,\n",
    "### Event details,\n",
    "### The event object,\n",
    "### Event patterns,\n",
    "### Event modifiers,\n",
    "### Event Detail,\n",
    "### The levels of binding,\n",
    "### Unbinding events"
   ]
  },
  {
   "cell_type": "code",
   "execution_count": null,
   "metadata": {},
   "outputs": [],
   "source": []
  },
  {
   "cell_type": "code",
   "execution_count": null,
   "metadata": {},
   "outputs": [],
   "source": []
  },
  {
   "cell_type": "markdown",
   "metadata": {},
   "source": [
    "# Görüntü Ekleme "
   ]
  },
  {
   "cell_type": "markdown",
   "metadata": {},
   "source": [
    " ### Kod belgesi ile aynı dizin içerisindeki görsele ulaşma"
   ]
  },
  {
   "cell_type": "code",
   "execution_count": 10,
   "metadata": {},
   "outputs": [],
   "source": [
    "from tkinter import *\n",
    "\n",
    "\n",
    "root=Tk()\n",
    "\n",
    "# Resim veya görüntü ekleme\n",
    "goruntu=PhotoImage(file=\"login.png\")\n",
    "\n",
    "label=Label(image=goruntu)\n",
    "label.image=goruntu\n",
    "\n",
    "label.place(x=50,y=50)\n",
    "\n",
    "root.mainloop()"
   ]
  },
  {
   "cell_type": "markdown",
   "metadata": {},
   "source": [
    "### Belirli bir dizin ya da dosya yolu üzerindeki görsele ulaşma"
   ]
  },
  {
   "cell_type": "code",
   "execution_count": 14,
   "metadata": {},
   "outputs": [],
   "source": [
    "from tkinter import *\n",
    "\n",
    "\n",
    "root=Tk()\n",
    "\n",
    "# Resim veya görüntü ekleme\n",
    "goruntu=PhotoImage(file=r\"C:\\Users\\CemATILGAN\\Desktop\\user_login.png\")\n",
    "\n",
    "label=Label(image=goruntu)\n",
    "label.image=goruntu\n",
    "\n",
    "label.place(x=50,y=50)\n",
    "\n",
    "root.mainloop()"
   ]
  },
  {
   "cell_type": "code",
   "execution_count": null,
   "metadata": {},
   "outputs": [],
   "source": [
    "from tkinter import *\n",
    "\n",
    "\n",
    "root=Tk()\n",
    "\n",
    "# Resim veya görüntü ekleme\n",
    "goruntu=PhotoImage(file=\"Resimler/login.png\")\n",
    "goruntu2=PhotoImage(file=\"Resimler/user.png\")\n",
    "\n",
    "label=Label(image=goruntu)\n",
    "label.image=goruntu\n",
    "\n",
    "label.place(x=50,y=50)\n",
    "\n",
    "root.mainloop()"
   ]
  },
  {
   "cell_type": "markdown",
   "metadata": {},
   "source": [
    "# None parametresi"
   ]
  },
  {
   "cell_type": "code",
   "execution_count": 1,
   "metadata": {},
   "outputs": [
    {
     "ename": "TclError",
     "evalue": "couldn't open \"login.png\": no such file or directory",
     "output_type": "error",
     "traceback": [
      "\u001b[1;31m---------------------------------------------------------------------------\u001b[0m",
      "\u001b[1;31mTclError\u001b[0m                                  Traceback (most recent call last)",
      "\u001b[1;32m<ipython-input-1-dee5e84a2c2d>\u001b[0m in \u001b[0;36m<module>\u001b[1;34m\u001b[0m\n\u001b[0;32m      5\u001b[0m \u001b[1;33m\u001b[0m\u001b[0m\n\u001b[0;32m      6\u001b[0m \u001b[1;31m# Resim veya görüntü ekleme\u001b[0m\u001b[1;33m\u001b[0m\u001b[1;33m\u001b[0m\u001b[1;33m\u001b[0m\u001b[0m\n\u001b[1;32m----> 7\u001b[1;33m \u001b[0mgoruntu\u001b[0m\u001b[1;33m=\u001b[0m\u001b[0mPhotoImage\u001b[0m\u001b[1;33m(\u001b[0m\u001b[0mfile\u001b[0m\u001b[1;33m=\u001b[0m\u001b[1;34m\"login.png\"\u001b[0m\u001b[1;33m)\u001b[0m\u001b[1;33m\u001b[0m\u001b[1;33m\u001b[0m\u001b[0m\n\u001b[0m\u001b[0;32m      8\u001b[0m \u001b[1;33m\u001b[0m\u001b[0m\n\u001b[0;32m      9\u001b[0m \u001b[0mlabel\u001b[0m\u001b[1;33m=\u001b[0m\u001b[0mLabel\u001b[0m\u001b[1;33m(\u001b[0m\u001b[0mimage\u001b[0m\u001b[1;33m=\u001b[0m\u001b[1;32mNone\u001b[0m\u001b[1;33m)\u001b[0m\u001b[1;33m\u001b[0m\u001b[1;33m\u001b[0m\u001b[0m\n",
      "\u001b[1;32m~\\anaconda3\\lib\\tkinter\\__init__.py\u001b[0m in \u001b[0;36m__init__\u001b[1;34m(self, name, cnf, master, **kw)\u001b[0m\n\u001b[0;32m   4059\u001b[0m         \u001b[0mValid\u001b[0m \u001b[0mresource\u001b[0m \u001b[0mnames\u001b[0m\u001b[1;33m:\u001b[0m \u001b[0mdata\u001b[0m\u001b[1;33m,\u001b[0m \u001b[0mformat\u001b[0m\u001b[1;33m,\u001b[0m \u001b[0mfile\u001b[0m\u001b[1;33m,\u001b[0m \u001b[0mgamma\u001b[0m\u001b[1;33m,\u001b[0m \u001b[0mheight\u001b[0m\u001b[1;33m,\u001b[0m \u001b[0mpalette\u001b[0m\u001b[1;33m,\u001b[0m\u001b[1;33m\u001b[0m\u001b[1;33m\u001b[0m\u001b[0m\n\u001b[0;32m   4060\u001b[0m         width.\"\"\"\n\u001b[1;32m-> 4061\u001b[1;33m         \u001b[0mImage\u001b[0m\u001b[1;33m.\u001b[0m\u001b[0m__init__\u001b[0m\u001b[1;33m(\u001b[0m\u001b[0mself\u001b[0m\u001b[1;33m,\u001b[0m \u001b[1;34m'photo'\u001b[0m\u001b[1;33m,\u001b[0m \u001b[0mname\u001b[0m\u001b[1;33m,\u001b[0m \u001b[0mcnf\u001b[0m\u001b[1;33m,\u001b[0m \u001b[0mmaster\u001b[0m\u001b[1;33m,\u001b[0m \u001b[1;33m**\u001b[0m\u001b[0mkw\u001b[0m\u001b[1;33m)\u001b[0m\u001b[1;33m\u001b[0m\u001b[1;33m\u001b[0m\u001b[0m\n\u001b[0m\u001b[0;32m   4062\u001b[0m \u001b[1;33m\u001b[0m\u001b[0m\n\u001b[0;32m   4063\u001b[0m     \u001b[1;32mdef\u001b[0m \u001b[0mblank\u001b[0m\u001b[1;33m(\u001b[0m\u001b[0mself\u001b[0m\u001b[1;33m)\u001b[0m\u001b[1;33m:\u001b[0m\u001b[1;33m\u001b[0m\u001b[1;33m\u001b[0m\u001b[0m\n",
      "\u001b[1;32m~\\anaconda3\\lib\\tkinter\\__init__.py\u001b[0m in \u001b[0;36m__init__\u001b[1;34m(self, imgtype, name, cnf, master, **kw)\u001b[0m\n\u001b[0;32m   4004\u001b[0m                 \u001b[0mv\u001b[0m \u001b[1;33m=\u001b[0m \u001b[0mself\u001b[0m\u001b[1;33m.\u001b[0m\u001b[0m_register\u001b[0m\u001b[1;33m(\u001b[0m\u001b[0mv\u001b[0m\u001b[1;33m)\u001b[0m\u001b[1;33m\u001b[0m\u001b[1;33m\u001b[0m\u001b[0m\n\u001b[0;32m   4005\u001b[0m             \u001b[0moptions\u001b[0m \u001b[1;33m=\u001b[0m \u001b[0moptions\u001b[0m \u001b[1;33m+\u001b[0m \u001b[1;33m(\u001b[0m\u001b[1;34m'-'\u001b[0m\u001b[1;33m+\u001b[0m\u001b[0mk\u001b[0m\u001b[1;33m,\u001b[0m \u001b[0mv\u001b[0m\u001b[1;33m)\u001b[0m\u001b[1;33m\u001b[0m\u001b[1;33m\u001b[0m\u001b[0m\n\u001b[1;32m-> 4006\u001b[1;33m         \u001b[0mself\u001b[0m\u001b[1;33m.\u001b[0m\u001b[0mtk\u001b[0m\u001b[1;33m.\u001b[0m\u001b[0mcall\u001b[0m\u001b[1;33m(\u001b[0m\u001b[1;33m(\u001b[0m\u001b[1;34m'image'\u001b[0m\u001b[1;33m,\u001b[0m \u001b[1;34m'create'\u001b[0m\u001b[1;33m,\u001b[0m \u001b[0mimgtype\u001b[0m\u001b[1;33m,\u001b[0m \u001b[0mname\u001b[0m\u001b[1;33m,\u001b[0m\u001b[1;33m)\u001b[0m \u001b[1;33m+\u001b[0m \u001b[0moptions\u001b[0m\u001b[1;33m)\u001b[0m\u001b[1;33m\u001b[0m\u001b[1;33m\u001b[0m\u001b[0m\n\u001b[0m\u001b[0;32m   4007\u001b[0m         \u001b[0mself\u001b[0m\u001b[1;33m.\u001b[0m\u001b[0mname\u001b[0m \u001b[1;33m=\u001b[0m \u001b[0mname\u001b[0m\u001b[1;33m\u001b[0m\u001b[1;33m\u001b[0m\u001b[0m\n\u001b[0;32m   4008\u001b[0m \u001b[1;33m\u001b[0m\u001b[0m\n",
      "\u001b[1;31mTclError\u001b[0m: couldn't open \"login.png\": no such file or directory"
     ]
    }
   ],
   "source": [
    "from tkinter import *\n",
    "\n",
    "\n",
    "root=Tk()\n",
    "\n",
    "# Resim veya görüntü ekleme\n",
    "goruntu=PhotoImage(file=\"login.png\")\n",
    "\n",
    "label=Label(image=None)\n",
    "label.image=None\n",
    "\n",
    "label.place(x=50,y=50)\n",
    "\n",
    "root.mainloop()"
   ]
  },
  {
   "cell_type": "code",
   "execution_count": 16,
   "metadata": {},
   "outputs": [],
   "source": [
    "from tkinter import *\n",
    "\n",
    "\n",
    "root=Tk()\n",
    "\n",
    "# Resim veya görüntü ekleme\n",
    "goruntu=PhotoImage(file=\"login.png\")\n",
    "\n",
    "btn=Button(image=goruntu)\n",
    "btn.image=goruntu\n",
    "\n",
    "btn.place(x=20,y=30)\n",
    "\n",
    "root.mainloop()"
   ]
  },
  {
   "cell_type": "markdown",
   "metadata": {},
   "source": [
    "# Resize image with subsample() "
   ]
  },
  {
   "cell_type": "code",
   "execution_count": 25,
   "metadata": {},
   "outputs": [
    {
     "ename": "TclError",
     "evalue": "couldn't open \"user.png\": no such file or directory",
     "output_type": "error",
     "traceback": [
      "\u001b[1;31m---------------------------------------------------------------------------\u001b[0m",
      "\u001b[1;31mTclError\u001b[0m                                  Traceback (most recent call last)",
      "\u001b[1;32m<ipython-input-25-ee29a673ddfa>\u001b[0m in \u001b[0;36m<module>\u001b[1;34m\u001b[0m\n\u001b[0;32m      5\u001b[0m \u001b[1;33m\u001b[0m\u001b[0m\n\u001b[0;32m      6\u001b[0m \u001b[1;31m# Resim veya görüntü ekleme\u001b[0m\u001b[1;33m\u001b[0m\u001b[1;33m\u001b[0m\u001b[1;33m\u001b[0m\u001b[0m\n\u001b[1;32m----> 7\u001b[1;33m \u001b[0mgoruntu\u001b[0m\u001b[1;33m=\u001b[0m\u001b[0mPhotoImage\u001b[0m\u001b[1;33m(\u001b[0m\u001b[0mfile\u001b[0m\u001b[1;33m=\u001b[0m\u001b[1;34m\"user.png\"\u001b[0m\u001b[1;33m)\u001b[0m\u001b[1;33m\u001b[0m\u001b[1;33m\u001b[0m\u001b[0m\n\u001b[0m\u001b[0;32m      8\u001b[0m \u001b[1;33m\u001b[0m\u001b[0m\n\u001b[0;32m      9\u001b[0m \u001b[0mresized_goruntu\u001b[0m\u001b[1;33m=\u001b[0m\u001b[0mgoruntu\u001b[0m\u001b[1;33m.\u001b[0m\u001b[0msubsample\u001b[0m\u001b[1;33m(\u001b[0m\u001b[1;36m3\u001b[0m\u001b[1;33m,\u001b[0m\u001b[1;36m3\u001b[0m\u001b[1;33m)\u001b[0m\u001b[1;33m\u001b[0m\u001b[1;33m\u001b[0m\u001b[0m\n",
      "\u001b[1;32m~\\anaconda3\\lib\\tkinter\\__init__.py\u001b[0m in \u001b[0;36m__init__\u001b[1;34m(self, name, cnf, master, **kw)\u001b[0m\n\u001b[0;32m   4059\u001b[0m         \u001b[0mValid\u001b[0m \u001b[0mresource\u001b[0m \u001b[0mnames\u001b[0m\u001b[1;33m:\u001b[0m \u001b[0mdata\u001b[0m\u001b[1;33m,\u001b[0m \u001b[0mformat\u001b[0m\u001b[1;33m,\u001b[0m \u001b[0mfile\u001b[0m\u001b[1;33m,\u001b[0m \u001b[0mgamma\u001b[0m\u001b[1;33m,\u001b[0m \u001b[0mheight\u001b[0m\u001b[1;33m,\u001b[0m \u001b[0mpalette\u001b[0m\u001b[1;33m,\u001b[0m\u001b[1;33m\u001b[0m\u001b[1;33m\u001b[0m\u001b[0m\n\u001b[0;32m   4060\u001b[0m         width.\"\"\"\n\u001b[1;32m-> 4061\u001b[1;33m         \u001b[0mImage\u001b[0m\u001b[1;33m.\u001b[0m\u001b[0m__init__\u001b[0m\u001b[1;33m(\u001b[0m\u001b[0mself\u001b[0m\u001b[1;33m,\u001b[0m \u001b[1;34m'photo'\u001b[0m\u001b[1;33m,\u001b[0m \u001b[0mname\u001b[0m\u001b[1;33m,\u001b[0m \u001b[0mcnf\u001b[0m\u001b[1;33m,\u001b[0m \u001b[0mmaster\u001b[0m\u001b[1;33m,\u001b[0m \u001b[1;33m**\u001b[0m\u001b[0mkw\u001b[0m\u001b[1;33m)\u001b[0m\u001b[1;33m\u001b[0m\u001b[1;33m\u001b[0m\u001b[0m\n\u001b[0m\u001b[0;32m   4062\u001b[0m \u001b[1;33m\u001b[0m\u001b[0m\n\u001b[0;32m   4063\u001b[0m     \u001b[1;32mdef\u001b[0m \u001b[0mblank\u001b[0m\u001b[1;33m(\u001b[0m\u001b[0mself\u001b[0m\u001b[1;33m)\u001b[0m\u001b[1;33m:\u001b[0m\u001b[1;33m\u001b[0m\u001b[1;33m\u001b[0m\u001b[0m\n",
      "\u001b[1;32m~\\anaconda3\\lib\\tkinter\\__init__.py\u001b[0m in \u001b[0;36m__init__\u001b[1;34m(self, imgtype, name, cnf, master, **kw)\u001b[0m\n\u001b[0;32m   4004\u001b[0m                 \u001b[0mv\u001b[0m \u001b[1;33m=\u001b[0m \u001b[0mself\u001b[0m\u001b[1;33m.\u001b[0m\u001b[0m_register\u001b[0m\u001b[1;33m(\u001b[0m\u001b[0mv\u001b[0m\u001b[1;33m)\u001b[0m\u001b[1;33m\u001b[0m\u001b[1;33m\u001b[0m\u001b[0m\n\u001b[0;32m   4005\u001b[0m             \u001b[0moptions\u001b[0m \u001b[1;33m=\u001b[0m \u001b[0moptions\u001b[0m \u001b[1;33m+\u001b[0m \u001b[1;33m(\u001b[0m\u001b[1;34m'-'\u001b[0m\u001b[1;33m+\u001b[0m\u001b[0mk\u001b[0m\u001b[1;33m,\u001b[0m \u001b[0mv\u001b[0m\u001b[1;33m)\u001b[0m\u001b[1;33m\u001b[0m\u001b[1;33m\u001b[0m\u001b[0m\n\u001b[1;32m-> 4006\u001b[1;33m         \u001b[0mself\u001b[0m\u001b[1;33m.\u001b[0m\u001b[0mtk\u001b[0m\u001b[1;33m.\u001b[0m\u001b[0mcall\u001b[0m\u001b[1;33m(\u001b[0m\u001b[1;33m(\u001b[0m\u001b[1;34m'image'\u001b[0m\u001b[1;33m,\u001b[0m \u001b[1;34m'create'\u001b[0m\u001b[1;33m,\u001b[0m \u001b[0mimgtype\u001b[0m\u001b[1;33m,\u001b[0m \u001b[0mname\u001b[0m\u001b[1;33m,\u001b[0m\u001b[1;33m)\u001b[0m \u001b[1;33m+\u001b[0m \u001b[0moptions\u001b[0m\u001b[1;33m)\u001b[0m\u001b[1;33m\u001b[0m\u001b[1;33m\u001b[0m\u001b[0m\n\u001b[0m\u001b[0;32m   4007\u001b[0m         \u001b[0mself\u001b[0m\u001b[1;33m.\u001b[0m\u001b[0mname\u001b[0m \u001b[1;33m=\u001b[0m \u001b[0mname\u001b[0m\u001b[1;33m\u001b[0m\u001b[1;33m\u001b[0m\u001b[0m\n\u001b[0;32m   4008\u001b[0m \u001b[1;33m\u001b[0m\u001b[0m\n",
      "\u001b[1;31mTclError\u001b[0m: couldn't open \"user.png\": no such file or directory"
     ]
    }
   ],
   "source": [
    "from tkinter import *\n",
    "\n",
    "\n",
    "root=Tk()\n",
    "\n",
    "# Resim veya görüntü ekleme\n",
    "goruntu=PhotoImage(file=\"user.png\")\n",
    "\n",
    "resized_goruntu=goruntu.subsample(3,3)\n",
    "resized_goruntu2=goruntu.subsample(7,7)\n",
    "\n",
    "\n",
    "label=Label(image=goruntu, bg=\"light yellow\")\n",
    "label.image=goruntu\n",
    "label.place(x=50,y=50)\n",
    "\n",
    "\n",
    "label2=Label(image=resized_goruntu, bg=\"salmon\")\n",
    "label2.image=resized_goruntu\n",
    "label2.place(x=200,y=50)\n",
    "\n",
    "\n",
    "label3=Label(image=resized_goruntu2, bg=\"pale green\")\n",
    "label3.image=resized_goruntu2\n",
    "label3.place(x=200,y=100)\n",
    "\n",
    "root.mainloop()"
   ]
  },
  {
   "cell_type": "markdown",
   "metadata": {},
   "source": [
    "# root.after()"
   ]
  },
  {
   "cell_type": "code",
   "execution_count": 25,
   "metadata": {},
   "outputs": [],
   "source": [
    "from tkinter import *\n",
    "\n",
    "\n",
    "def image():\n",
    "    label.config(image=resized_goruntu)\n",
    "    label.image=resized_goruntu\n",
    "\n",
    "\n",
    "root=Tk()\n",
    "root.geometry(\"700x700\")\n",
    "\n",
    "root.after(10000,image)\n",
    "\n",
    "# Resim veya görüntü ekleme\n",
    "goruntu=PhotoImage(file=\"user.png\")\n",
    "\n",
    "resized_goruntu=goruntu.subsample(3,3)\n",
    "resized_goruntu2=goruntu.subsample(7,7)\n",
    "\n",
    "\n",
    "label=Label(image=goruntu, bg=\"light yellow\")\n",
    "label.image=goruntu\n",
    "label.place(x=50,y=50)\n",
    "\n",
    "\n",
    "label2=Label(image=resized_goruntu, bg=\"salmon\")\n",
    "label2.image=resized_goruntu\n",
    "label2.place(x=200,y=50)\n",
    "\n",
    "\n",
    "label3=Label(image=resized_goruntu2, bg=\"pale green\")\n",
    "label3.image=resized_goruntu2\n",
    "label3.place(x=200,y=100)\n",
    "\n",
    "label=Label(root)\n",
    "label.place(x=500,y=500)\n",
    "\n",
    "\n",
    "\n",
    "root.mainloop()"
   ]
  },
  {
   "cell_type": "code",
   "execution_count": null,
   "metadata": {},
   "outputs": [],
   "source": []
  }
 ],
 "metadata": {
  "kernelspec": {
   "display_name": "Python 3",
   "language": "python",
   "name": "python3"
  },
  "language_info": {
   "codemirror_mode": {
    "name": "ipython",
    "version": 3
   },
   "file_extension": ".py",
   "mimetype": "text/x-python",
   "name": "python",
   "nbconvert_exporter": "python",
   "pygments_lexer": "ipython3",
   "version": "3.8.5"
  }
 },
 "nbformat": 4,
 "nbformat_minor": 4
}
