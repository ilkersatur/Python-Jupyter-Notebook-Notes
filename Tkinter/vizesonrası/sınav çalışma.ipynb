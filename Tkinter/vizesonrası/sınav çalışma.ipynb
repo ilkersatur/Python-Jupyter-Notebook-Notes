{
 "cells": [
  {
   "cell_type": "code",
   "execution_count": 4,
   "metadata": {},
   "outputs": [],
   "source": [
    "\n",
    "def tikla():  \n",
    "    \n",
    "    yazi=int(girdi_alani.get())\n",
    "    etiket.configure(text=yazi,bg=\"yellow\",fg=\"red\")\n",
    "   \n",
    "    if(yazi>10):\n",
    "        etiket2.configure(text=\"sayi 10dan büyük\",bg=\"red\",fg=\"yellow\")\n",
    "    else:\n",
    "        girdi_alani.insert(END,\"Sayi 10'den kücüktür\")\n",
    "                           \n",
    "def close():\n",
    "    pencere.deiconify()\n",
    "    yp.withdraw()\n",
    "\n",
    "def yp():\n",
    "    yp=Toplevel(pencere)\n",
    "    yp.title(\"yp\")\n",
    "    yp.geometry(\"200x200\")\n",
    "\n",
    "    buton=Button(yp, text=\"Tıkla\",command=close);\n",
    "    etiket=Label(yp,text=\"yp\")\n",
    "  \n",
    "    etiket.place(x=50,y=50)\n",
    "    buton.place(x=50,y=150)\n",
    "\n",
    "\n",
    "    \n",
    "from tkinter import *\n",
    "pencere=Tk()\n",
    "pencere.geometry(\"500x500\")\n",
    "pencere.title(\"Face\")\n",
    "pencere.configure(bg=\"pale green\")\n",
    "\n",
    "\n",
    "etiket=Label(pencere, text=\"Login Yap\",font=(\"Arial\",25),bg=\"blue\")\n",
    "buton=Button(pencere, text=\"Tıkla\", command=tikla);\n",
    "buton2=Button(pencere, text=\"pencere\", command=yp);\n",
    "\n",
    "girdi_alani=Entry(pencere)\n",
    "etiket2=Label(pencere, text=\"Login Yap\",font=(\"Arial\",25),bg=\"blue\")\n",
    "\n",
    "\n",
    "buton.place(x=50,y=150)\n",
    "buton2.place(x=150,y=200)\n",
    "etiket.place(x=50,y=50)\n",
    "etiket2.place(x=200,y=50)\n",
    "girdi_alani.place(x=50,y=100)\n",
    "\n",
    "pencere.mainloop()"
   ]
  }
 ],
 "metadata": {
  "kernelspec": {
   "display_name": "Python 3",
   "language": "python",
   "name": "python3"
  },
  "language_info": {
   "codemirror_mode": {
    "name": "ipython",
    "version": 3
   },
   "file_extension": ".py",
   "mimetype": "text/x-python",
   "name": "python",
   "nbconvert_exporter": "python",
   "pygments_lexer": "ipython3",
   "version": "3.8.5"
  }
 },
 "nbformat": 4,
 "nbformat_minor": 4
}
