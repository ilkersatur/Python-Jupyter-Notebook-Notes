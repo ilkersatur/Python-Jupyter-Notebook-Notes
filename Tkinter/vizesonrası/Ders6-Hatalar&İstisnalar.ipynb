{
 "cells": [
  {
   "cell_type": "markdown",
   "metadata": {},
   "source": [
    "# Hata ve İstisnalar\n",
    "\n",
    "## try satırı içerisinde SYNTAX HATASI olduğunda program except bloğuna geçmiyor. Bu tek istisnasıdır."
   ]
  },
  {
   "cell_type": "code",
   "execution_count": 56,
   "metadata": {},
   "outputs": [
    {
     "ename": "NameError",
     "evalue": "name 'degisken' is not defined",
     "output_type": "error",
     "traceback": [
      "\u001b[1;31m---------------------------------------------------------------------------\u001b[0m",
      "\u001b[1;31mNameError\u001b[0m                                 Traceback (most recent call last)",
      "\u001b[1;32m<ipython-input-56-5b43beea5a4e>\u001b[0m in \u001b[0;36m<module>\u001b[1;34m\u001b[0m\n\u001b[1;32m----> 1\u001b[1;33m \u001b[0mprint\u001b[0m\u001b[1;33m(\u001b[0m\u001b[0mdegisken\u001b[0m\u001b[1;33m)\u001b[0m\u001b[1;33m\u001b[0m\u001b[1;33m\u001b[0m\u001b[0m\n\u001b[0m",
      "\u001b[1;31mNameError\u001b[0m: name 'degisken' is not defined"
     ]
    }
   ],
   "source": [
    "print(degisken)"
   ]
  },
  {
   "cell_type": "code",
   "execution_count": 57,
   "metadata": {},
   "outputs": [
    {
     "name": "stdin",
     "output_type": "stream",
     "text": [
      "Sayi a\n"
     ]
    },
    {
     "ename": "ValueError",
     "evalue": "invalid literal for int() with base 10: 'a'",
     "output_type": "error",
     "traceback": [
      "\u001b[1;31m---------------------------------------------------------------------------\u001b[0m",
      "\u001b[1;31mValueError\u001b[0m                                Traceback (most recent call last)",
      "\u001b[1;32m<ipython-input-57-028686222e29>\u001b[0m in \u001b[0;36m<module>\u001b[1;34m\u001b[0m\n\u001b[1;32m----> 1\u001b[1;33m \u001b[0msayi\u001b[0m\u001b[1;33m=\u001b[0m\u001b[0mint\u001b[0m\u001b[1;33m(\u001b[0m\u001b[0minput\u001b[0m\u001b[1;33m(\u001b[0m\u001b[1;34m\"Sayi\"\u001b[0m\u001b[1;33m)\u001b[0m\u001b[1;33m)\u001b[0m\u001b[1;33m\u001b[0m\u001b[1;33m\u001b[0m\u001b[0m\n\u001b[0m",
      "\u001b[1;31mValueError\u001b[0m: invalid literal for int() with base 10: 'a'"
     ]
    }
   ],
   "source": [
    "sayi=int(input(\"Sayi\"))"
   ]
  },
  {
   "cell_type": "code",
   "execution_count": 58,
   "metadata": {},
   "outputs": [
    {
     "name": "stdin",
     "output_type": "stream",
     "text": [
      "Sayi 5.6\n"
     ]
    },
    {
     "ename": "ValueError",
     "evalue": "invalid literal for int() with base 10: '5.6'",
     "output_type": "error",
     "traceback": [
      "\u001b[1;31m---------------------------------------------------------------------------\u001b[0m",
      "\u001b[1;31mValueError\u001b[0m                                Traceback (most recent call last)",
      "\u001b[1;32m<ipython-input-58-028686222e29>\u001b[0m in \u001b[0;36m<module>\u001b[1;34m\u001b[0m\n\u001b[1;32m----> 1\u001b[1;33m \u001b[0msayi\u001b[0m\u001b[1;33m=\u001b[0m\u001b[0mint\u001b[0m\u001b[1;33m(\u001b[0m\u001b[0minput\u001b[0m\u001b[1;33m(\u001b[0m\u001b[1;34m\"Sayi\"\u001b[0m\u001b[1;33m)\u001b[0m\u001b[1;33m)\u001b[0m\u001b[1;33m\u001b[0m\u001b[1;33m\u001b[0m\u001b[0m\n\u001b[0m",
      "\u001b[1;31mValueError\u001b[0m: invalid literal for int() with base 10: '5.6'"
     ]
    }
   ],
   "source": [
    "sayi=int(input(\"Sayi\"))"
   ]
  },
  {
   "cell_type": "code",
   "execution_count": 59,
   "metadata": {},
   "outputs": [
    {
     "ename": "ValueError",
     "evalue": "invalid literal for int() with base 10: 'asds65'",
     "output_type": "error",
     "traceback": [
      "\u001b[1;31m---------------------------------------------------------------------------\u001b[0m",
      "\u001b[1;31mValueError\u001b[0m                                Traceback (most recent call last)",
      "\u001b[1;32m<ipython-input-59-a5a3a8e52c75>\u001b[0m in \u001b[0;36m<module>\u001b[1;34m\u001b[0m\n\u001b[1;32m----> 1\u001b[1;33m \u001b[0mint\u001b[0m\u001b[1;33m(\u001b[0m\u001b[1;34m\"asds65\"\u001b[0m\u001b[1;33m)\u001b[0m\u001b[1;33m\u001b[0m\u001b[1;33m\u001b[0m\u001b[0m\n\u001b[0m",
      "\u001b[1;31mValueError\u001b[0m: invalid literal for int() with base 10: 'asds65'"
     ]
    }
   ],
   "source": [
    "int(\"asds65\")"
   ]
  },
  {
   "cell_type": "code",
   "execution_count": 60,
   "metadata": {},
   "outputs": [
    {
     "data": {
      "text/plain": [
       "65"
      ]
     },
     "execution_count": 60,
     "metadata": {},
     "output_type": "execute_result"
    }
   ],
   "source": [
    "int(\"65\")"
   ]
  },
  {
   "cell_type": "code",
   "execution_count": 61,
   "metadata": {},
   "outputs": [
    {
     "name": "stdin",
     "output_type": "stream",
     "text": [
      "Sayi1: 5\n",
      "Sayi2: 0\n"
     ]
    },
    {
     "ename": "ZeroDivisionError",
     "evalue": "division by zero",
     "output_type": "error",
     "traceback": [
      "\u001b[1;31m---------------------------------------------------------------------------\u001b[0m",
      "\u001b[1;31mZeroDivisionError\u001b[0m                         Traceback (most recent call last)",
      "\u001b[1;32m<ipython-input-61-65e7c6136ff7>\u001b[0m in \u001b[0;36m<module>\u001b[1;34m\u001b[0m\n\u001b[0;32m      2\u001b[0m \u001b[0msayi2\u001b[0m\u001b[1;33m=\u001b[0m\u001b[0mint\u001b[0m\u001b[1;33m(\u001b[0m\u001b[0minput\u001b[0m\u001b[1;33m(\u001b[0m\u001b[1;34m\"Sayi2:\"\u001b[0m\u001b[1;33m)\u001b[0m\u001b[1;33m)\u001b[0m\u001b[1;33m\u001b[0m\u001b[1;33m\u001b[0m\u001b[0m\n\u001b[0;32m      3\u001b[0m \u001b[1;33m\u001b[0m\u001b[0m\n\u001b[1;32m----> 4\u001b[1;33m \u001b[0msayi1\u001b[0m\u001b[1;33m/\u001b[0m\u001b[0msayi2\u001b[0m\u001b[1;33m\u001b[0m\u001b[1;33m\u001b[0m\u001b[0m\n\u001b[0m",
      "\u001b[1;31mZeroDivisionError\u001b[0m: division by zero"
     ]
    }
   ],
   "source": [
    "sayi1=int(input(\"Sayi1:\"))\n",
    "sayi2=int(input(\"Sayi2:\"))\n",
    "\n",
    "sayi1/sayi2"
   ]
  },
  {
   "cell_type": "code",
   "execution_count": 62,
   "metadata": {},
   "outputs": [
    {
     "ename": "SyntaxError",
     "evalue": "invalid syntax (<ipython-input-62-1e113baeb38a>, line 3)",
     "output_type": "error",
     "traceback": [
      "\u001b[1;36m  File \u001b[1;32m\"<ipython-input-62-1e113baeb38a>\"\u001b[1;36m, line \u001b[1;32m3\u001b[0m\n\u001b[1;33m    while(sayi>0)\u001b[0m\n\u001b[1;37m                 ^\u001b[0m\n\u001b[1;31mSyntaxError\u001b[0m\u001b[1;31m:\u001b[0m invalid syntax\n"
     ]
    }
   ],
   "source": [
    "sayi=int(input(\"Sayi\"))\n",
    "\n",
    "while(sayi>0)\n",
    "    print(\"Hello\")\n",
    "    sayi-=1"
   ]
  },
  {
   "cell_type": "code",
   "execution_count": 12,
   "metadata": {},
   "outputs": [
    {
     "name": "stdin",
     "output_type": "stream",
     "text": [
      "Sayi 5\n"
     ]
    },
    {
     "name": "stdout",
     "output_type": "stream",
     "text": [
      "Hello\n",
      "Hello\n",
      "Hello\n",
      "Hello\n",
      "Hello\n"
     ]
    }
   ],
   "source": [
    "try:\n",
    "    sayi=int(input(\"Sayi\"))\n",
    "\n",
    "    while(sayi>0):\n",
    "        print(\"Hello\")\n",
    "        sayi-=1\n",
    "        \n",
    "\n",
    "except :\n",
    "    print(\"Hata!\")\n",
    "    "
   ]
  },
  {
   "cell_type": "code",
   "execution_count": 65,
   "metadata": {},
   "outputs": [
    {
     "name": "stdin",
     "output_type": "stream",
     "text": [
      "Sayi a\n"
     ]
    },
    {
     "name": "stdout",
     "output_type": "stream",
     "text": [
      "Hata!\n"
     ]
    }
   ],
   "source": [
    "try:\n",
    "    sayi=int(input(\"Sayi\"))\n",
    "    print(\"sayi\",sayi)\n",
    "        \n",
    "\n",
    "except:\n",
    "    print(\"Hata!\")"
   ]
  },
  {
   "cell_type": "code",
   "execution_count": 66,
   "metadata": {},
   "outputs": [
    {
     "name": "stdin",
     "output_type": "stream",
     "text": [
      "Sayi1: 1\n",
      "Sayi2: 2.5\n"
     ]
    },
    {
     "name": "stdout",
     "output_type": "stream",
     "text": [
      "Hata!\n"
     ]
    }
   ],
   "source": [
    "try:\n",
    "    sayi1=int(input(\"Sayi1:\"))\n",
    "    sayi2=int(input(\"Sayi2:\"))\n",
    "\n",
    "    sonuc=sayi1/sayi2\n",
    "    \n",
    "    print(sonuc)\n",
    "        \n",
    "\n",
    "except:\n",
    "    print(\"Hata!\")"
   ]
  },
  {
   "cell_type": "code",
   "execution_count": 67,
   "metadata": {},
   "outputs": [
    {
     "name": "stdin",
     "output_type": "stream",
     "text": [
      "Sayi1: a\n"
     ]
    },
    {
     "name": "stdout",
     "output_type": "stream",
     "text": [
      "Hata!\n"
     ]
    }
   ],
   "source": [
    "try:\n",
    "    sayi1=int(input(\"Sayi1:\"))\n",
    "    sayi2=int(input(\"Sayi2:\"))\n",
    "\n",
    "    sonuc=sayi1/sayi2\n",
    "    \n",
    "    print(sonuc)\n",
    "        \n",
    "\n",
    "except:\n",
    "    print(\"Hata!\")"
   ]
  },
  {
   "cell_type": "code",
   "execution_count": 68,
   "metadata": {},
   "outputs": [
    {
     "name": "stdin",
     "output_type": "stream",
     "text": [
      "Sayi1: 2\n",
      "Sayi2: 0\n"
     ]
    },
    {
     "name": "stdout",
     "output_type": "stream",
     "text": [
      "Hata!\n"
     ]
    }
   ],
   "source": [
    "try:\n",
    "    sayi1=int(input(\"Sayi1:\"))\n",
    "    sayi2=int(input(\"Sayi2:\"))\n",
    "\n",
    "    sonuc=sayi1/sayi2\n",
    "    \n",
    "    print(sonuc)\n",
    "        \n",
    "\n",
    "except:\n",
    "    print(\"Hata!\")"
   ]
  },
  {
   "cell_type": "code",
   "execution_count": 69,
   "metadata": {},
   "outputs": [
    {
     "name": "stdin",
     "output_type": "stream",
     "text": [
      "Sayi1: a\n"
     ]
    },
    {
     "name": "stdout",
     "output_type": "stream",
     "text": [
      "Hata!\n"
     ]
    }
   ],
   "source": [
    "try:\n",
    "    sayi1=int(input(\"Sayi1:\"))\n",
    "    sayi2=int(input(\"Sayi2:\"))\n",
    "\n",
    "    sonuc=sayi1/sayi2\n",
    "    \n",
    "    print(sonuc)\n",
    "        \n",
    "\n",
    "except ValueError:\n",
    "    print(\"Hata!\")"
   ]
  },
  {
   "cell_type": "code",
   "execution_count": 70,
   "metadata": {},
   "outputs": [
    {
     "name": "stdin",
     "output_type": "stream",
     "text": [
      "Sayi1: 1\n",
      "Sayi2: 0\n"
     ]
    },
    {
     "ename": "ZeroDivisionError",
     "evalue": "division by zero",
     "output_type": "error",
     "traceback": [
      "\u001b[1;31m---------------------------------------------------------------------------\u001b[0m",
      "\u001b[1;31mZeroDivisionError\u001b[0m                         Traceback (most recent call last)",
      "\u001b[1;32m<ipython-input-70-291fb4955f45>\u001b[0m in \u001b[0;36m<module>\u001b[1;34m\u001b[0m\n\u001b[0;32m      3\u001b[0m     \u001b[0msayi2\u001b[0m\u001b[1;33m=\u001b[0m\u001b[0mint\u001b[0m\u001b[1;33m(\u001b[0m\u001b[0minput\u001b[0m\u001b[1;33m(\u001b[0m\u001b[1;34m\"Sayi2:\"\u001b[0m\u001b[1;33m)\u001b[0m\u001b[1;33m)\u001b[0m\u001b[1;33m\u001b[0m\u001b[1;33m\u001b[0m\u001b[0m\n\u001b[0;32m      4\u001b[0m \u001b[1;33m\u001b[0m\u001b[0m\n\u001b[1;32m----> 5\u001b[1;33m     \u001b[0msonuc\u001b[0m\u001b[1;33m=\u001b[0m\u001b[0msayi1\u001b[0m\u001b[1;33m/\u001b[0m\u001b[0msayi2\u001b[0m\u001b[1;33m\u001b[0m\u001b[1;33m\u001b[0m\u001b[0m\n\u001b[0m\u001b[0;32m      6\u001b[0m \u001b[1;33m\u001b[0m\u001b[0m\n\u001b[0;32m      7\u001b[0m     \u001b[0mprint\u001b[0m\u001b[1;33m(\u001b[0m\u001b[0msonuc\u001b[0m\u001b[1;33m)\u001b[0m\u001b[1;33m\u001b[0m\u001b[1;33m\u001b[0m\u001b[0m\n",
      "\u001b[1;31mZeroDivisionError\u001b[0m: division by zero"
     ]
    }
   ],
   "source": [
    "try:\n",
    "    sayi1=int(input(\"Sayi1:\"))\n",
    "    sayi2=int(input(\"Sayi2:\"))\n",
    "\n",
    "    sonuc=sayi1/sayi2\n",
    "    \n",
    "    print(sonuc)\n",
    "        \n",
    "\n",
    "except ValueError:\n",
    "    print(\"Hata!\")"
   ]
  },
  {
   "cell_type": "code",
   "execution_count": 71,
   "metadata": {},
   "outputs": [
    {
     "name": "stdin",
     "output_type": "stream",
     "text": [
      "Sayi1: ş\n"
     ]
    },
    {
     "name": "stdout",
     "output_type": "stream",
     "text": [
      "sayi olmayan karakter girdiniz!\n"
     ]
    }
   ],
   "source": [
    "try:\n",
    "    sayi1=int(input(\"Sayi1:\"))\n",
    "    sayi2=int(input(\"Sayi2:\"))\n",
    "\n",
    "    sonuc=sayi1/sayi2\n",
    "    \n",
    "    print(sonuc)\n",
    "        \n",
    "\n",
    "except ValueError:\n",
    "    print(\"sayi olmayan karakter girdiniz!\")\n",
    "\n",
    "except ZeroDivisionError:\n",
    "    print(\"Sayı sifira bölünemez!\")"
   ]
  },
  {
   "cell_type": "markdown",
   "metadata": {},
   "source": [
    "try:\n",
    "    sayi1=int(input(\"Sayi1:\"))\n",
    "    sayi2=int(input(\"Sayi2:\"))\n",
    "\n",
    "    sonuc=sayi1/sayi2\n",
    "    \n",
    "    print(sonuc)\n",
    "        \n",
    "\n",
    "except ValueError:\n",
    "    print(\"sayi olmayan karakter girdiniz!\")\n",
    "\n",
    "except ZeroDivisionError:\n",
    "    print(\"Sayı sifira bölünemez!\")"
   ]
  },
  {
   "cell_type": "code",
   "execution_count": 74,
   "metadata": {},
   "outputs": [
    {
     "name": "stdin",
     "output_type": "stream",
     "text": [
      "Sayi1: 4\n",
      "Sayi2: 5\n"
     ]
    },
    {
     "name": "stdout",
     "output_type": "stream",
     "text": [
      "0.8\n",
      "Ister hata olsun/ ister hata olmasin finally her sart altinda calisir.\n"
     ]
    }
   ],
   "source": [
    "try:\n",
    "    sayi1=int(input(\"Sayi1:\"))\n",
    "    sayi2=int(input(\"Sayi2:\"))\n",
    "\n",
    "    sonuc=sayi1/sayi2\n",
    "    \n",
    "    print(sonuc)\n",
    "        \n",
    "\n",
    "except ValueError:\n",
    "    print(\"sayi olmayan karakter girdiniz!\")\n",
    "\n",
    "except ZeroDivisionError:\n",
    "    print(\"Sayı sifira bölünemez!\")\n",
    "    \n",
    "finally:\n",
    "    print(\"Ister hata olsun/ ister hata olmasin finally her sart altinda calisir.\")"
   ]
  },
  {
   "cell_type": "code",
   "execution_count": 75,
   "metadata": {},
   "outputs": [
    {
     "name": "stdin",
     "output_type": "stream",
     "text": [
      "Sayi1: 1\n",
      "Sayi2: a\n"
     ]
    },
    {
     "name": "stdout",
     "output_type": "stream",
     "text": [
      "sayi olmayan karakter girdiniz!\n",
      "Ister hata olsun/ ister hata olmasin finally her sart altinda calisir.\n"
     ]
    }
   ],
   "source": [
    "try:\n",
    "    sayi1=int(input(\"Sayi1:\"))\n",
    "    sayi2=int(input(\"Sayi2:\"))\n",
    "\n",
    "    sonuc=sayi1/sayi2\n",
    "    \n",
    "    print(sonuc)\n",
    "        \n",
    "\n",
    "except ValueError:\n",
    "    print(\"sayi olmayan karakter girdiniz!\")\n",
    "\n",
    "except ZeroDivisionError:\n",
    "    print(\"Sayı sifira bölünemez!\")\n",
    "    \n",
    "finally:\n",
    "    print(\"Ister hata olsun/ ister hata olmasin finally her sart altinda calisir.\")"
   ]
  },
  {
   "cell_type": "code",
   "execution_count": 76,
   "metadata": {},
   "outputs": [
    {
     "name": "stdin",
     "output_type": "stream",
     "text": [
      "Sayi1: 1\n",
      "Sayi2: 0\n"
     ]
    },
    {
     "name": "stdout",
     "output_type": "stream",
     "text": [
      "Sayı sifira bölünemez!\n",
      "Ister hata olsun/ ister hata olmasin finally her sart altinda calisir.\n"
     ]
    }
   ],
   "source": [
    "try:\n",
    "    sayi1=int(input(\"Sayi1:\"))\n",
    "    sayi2=int(input(\"Sayi2:\"))\n",
    "\n",
    "    sonuc=sayi1/sayi2\n",
    "    \n",
    "    print(sonuc)\n",
    "        \n",
    "\n",
    "except ValueError:\n",
    "    print(\"sayi olmayan karakter girdiniz!\")\n",
    "\n",
    "except ZeroDivisionError:\n",
    "    print(\"Sayı sifira bölünemez!\")\n",
    "    \n",
    "finally:\n",
    "    print(\"Ister hata olsun/ ister hata olmasin finally her sart altinda calisir.\")"
   ]
  },
  {
   "cell_type": "markdown",
   "metadata": {},
   "source": [
    "# raise anahtar kelimesine bakınız. Bir tane örnek yapınız."
   ]
  },
  {
   "cell_type": "code",
   "execution_count": null,
   "metadata": {},
   "outputs": [],
   "source": []
  }
 ],
 "metadata": {
  "kernelspec": {
   "display_name": "Python 3",
   "language": "python",
   "name": "python3"
  },
  "language_info": {
   "codemirror_mode": {
    "name": "ipython",
    "version": 3
   },
   "file_extension": ".py",
   "mimetype": "text/x-python",
   "name": "python",
   "nbconvert_exporter": "python",
   "pygments_lexer": "ipython3",
   "version": "3.8.5"
  }
 },
 "nbformat": 4,
 "nbformat_minor": 4
}
