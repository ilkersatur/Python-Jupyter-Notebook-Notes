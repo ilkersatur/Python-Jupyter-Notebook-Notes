{
 "cells": [
  {
   "cell_type": "markdown",
   "metadata": {},
   "source": [
    "# 1180301047_Ilker_Satur_MM\n"
   ]
  },
  {
   "cell_type": "markdown",
   "metadata": {},
   "source": [
    "# CEVAP"
   ]
  },
  {
   "cell_type": "code",
   "execution_count": 2,
   "metadata": {},
   "outputs": [],
   "source": [
    "khak=5\n",
    "dt=0\n",
    "yt=0\n",
    "import random\n",
    "sayi1=random.randint(100,500)\n",
    "sayi2=random.randint(100,500)\n",
    "\n",
    "def islem():\n",
    "    \n",
    "    try:\n",
    "\n",
    "        global khak\n",
    "        global dt\n",
    "        global yt\n",
    "        \n",
    "        ktoplam=int(sonuc.get())\n",
    "    \n",
    "        toplam=sayi1+sayi2\n",
    "    \n",
    "        if(toplam==ktoplam):\n",
    "                dt+=1\n",
    "                dogru.configure(text=dt)\n",
    "        if(toplam!=ktoplam):\n",
    "                yt+=1\n",
    "                khak-=1\n",
    "                yanlis.configure(text=yt)\n",
    "                hak.configure(text=khak)\n",
    "        if(khak==0):\n",
    "        \n",
    "                messagebox.showinfo(title=\"UYARI\", message=\"HAKKINIZ BİTMİŞTİR - BUTON KALDIRILDI\")\n",
    "                hesaplab.place(x=2323)\n",
    "    except ValueError:\n",
    "        messagebox.showinfo(title=\"UYARI\", message=\"SADECE SAYI GİRİNİZ\")\n",
    "\n",
    "from tkinter import*\n",
    "from tkinter import messagebox  \n",
    "main=Tk()\n",
    "main.geometry(\"400x300\")\n",
    "main.title(\"Toplama Oyunu\")\n",
    "\n",
    "sayi1t=Label(main,text=sayi1,font=(\"Arial\",20))\n",
    "sayi2t=Label(main,text=sayi2,font=(\"Arial\",20))\n",
    "sayi1t.place(x=50,y=20)\n",
    "sayi2t.place(x=50,y=50)\n",
    "\n",
    "dogru=Label(main,text=\"-\",font=(\"Arial\",20))\n",
    "yanlis=Label(main,text=\"-\",font=(\"Arial\",20))\n",
    "hak=Label(main,text=khak,font=(\"Arial\",20))\n",
    "dogru.place(x=50,y=200)\n",
    "yanlis.place(x=100,y=200)\n",
    "hak.place(x=150,y=200)\n",
    "\n",
    "dogrut=Label(main,text=\"Doğru\",font=(\"Arial\",10))\n",
    "yanlist=Label(main,text=\"Yanlış\",font=(\"Arial\",10))\n",
    "hakt=Label(main,text=\"Hak\",font=(\"Arial\",10))\n",
    "dogrut.place(x=50,y=250)\n",
    "yanlist.place(x=100,y=250)\n",
    "hakt.place(x=150,y=250)\n",
    "\n",
    "sonuc=Entry(main,font=(\"Arial\",15))\n",
    "sonuc.place(x=50,y=100)\n",
    "\n",
    "hesaplab=Button(main,text=\"Hesapla\",font=(\"Arial\",20),command=islem)\n",
    "hesaplab.place(x=50,y=150)\n",
    "\n",
    "isaret1=Label(main,text=\"+\",font=(\"Arial\",30))\n",
    "isaret1.place(x=10,y=60)\n",
    "\n",
    "main.mainloop()"
   ]
  },
  {
   "cell_type": "code",
   "execution_count": null,
   "metadata": {},
   "outputs": [],
   "source": []
  }
 ],
 "metadata": {
  "kernelspec": {
   "display_name": "Python 3",
   "language": "python",
   "name": "python3"
  },
  "language_info": {
   "codemirror_mode": {
    "name": "ipython",
    "version": 3
   },
   "file_extension": ".py",
   "mimetype": "text/x-python",
   "name": "python",
   "nbconvert_exporter": "python",
   "pygments_lexer": "ipython3",
   "version": "3.8.5"
  }
 },
 "nbformat": 4,
 "nbformat_minor": 4
}
